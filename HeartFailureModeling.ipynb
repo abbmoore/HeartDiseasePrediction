{
  "cells": [
    {
      "cell_type": "markdown",
      "metadata": {
        "id": "aqEYRcBdmPdp"
      },
      "source": [
        "# The Problem"
      ]
    },
    {
      "cell_type": "markdown",
      "metadata": {
        "id": "vpJ7OtE4maax"
      },
      "source": [
        "The goal is to create a model to predict whether a person has heart disease based on correlated health variables. This problem is a binary classification problem with the target variable being Heart_Disease in the dataset. Models are being built to find patterns in the data in order to predict whether a patient has heart disease"
      ]
    },
    {
      "cell_type": "markdown",
      "metadata": {
        "id": "DGtxhqNmL8z0"
      },
      "source": [
        "# Chosen models"
      ]
    },
    {
      "cell_type": "markdown",
      "metadata": {
        "id": "OCE6IaTHMCOT"
      },
      "source": [
        "There are three model types being created: a logistic regression model, a random forest model, and a support vector machine model. These three models were chosen due to their compatibility with binary classification problems."
      ]
    },
    {
      "cell_type": "markdown",
      "metadata": {
        "id": "DdHN4eSNNSjr"
      },
      "source": [
        "# Setup"
      ]
    },
    {
      "cell_type": "markdown",
      "metadata": {
        "id": "rwehLblpR0cC"
      },
      "source": [
        "## Libraries"
      ]
    },
    {
      "cell_type": "code",
      "execution_count": 2,
      "metadata": {
        "id": "frB9IUHjN7ab"
      },
      "outputs": [],
      "source": [
        "# Importing basic libraries used\n",
        "\n",
        "import pandas as pd\n",
        "import seaborn as sns\n",
        "import numpy as np\n",
        "import matplotlib.pyplot as plt"
      ]
    },
    {
      "cell_type": "markdown",
      "metadata": {
        "id": "dd1SizxCOIM6"
      },
      "source": [
        "## Dataset"
      ]
    },
    {
      "cell_type": "code",
      "execution_count": 3,
      "metadata": {
        "id": "cW6JS0wOOJEi"
      },
      "outputs": [],
      "source": [
        "# Importing cleaned dataset\n",
        "\n",
        "df = pd.read_csv('C:/Users/Abbae/Documents/School/Masters Degree/FALL 2023/CVD/CVD_cleaned.csv', on_bad_lines='skip')"
      ]
    },
    {
      "cell_type": "code",
      "execution_count": 4,
      "metadata": {
        "id": "FenKHEcQh5TO"
      },
      "outputs": [],
      "source": [
        "# Renaming Height and Weight variables for easier processing/analysis\n",
        "\n",
        "df.rename({'Height_(cm)': 'Height', 'Weight_(kg)': 'Weight'}, axis=1, inplace=True)"
      ]
    },
    {
      "cell_type": "markdown",
      "metadata": {
        "id": "ofO3X4deOCy6"
      },
      "source": [
        "## Missing Values"
      ]
    },
    {
      "cell_type": "code",
      "execution_count": 5,
      "metadata": {
        "colab": {
          "base_uri": "https://localhost:8080/"
        },
        "id": "tqMK8OWtOGd6",
        "outputId": "32b58854-39fd-432a-c48d-9ac8911e00ef"
      },
      "outputs": [
        {
          "data": {
            "text/plain": [
              "General_Health                  0\n",
              "Checkup                         0\n",
              "Exercise                        0\n",
              "Heart_Disease                   0\n",
              "Skin_Cancer                     0\n",
              "Other_Cancer                    0\n",
              "Depression                      0\n",
              "Diabetes                        0\n",
              "Arthritis                       0\n",
              "Sex                             0\n",
              "Age_Category                    0\n",
              "Height                          0\n",
              "Weight                          0\n",
              "BMI                             0\n",
              "Smoking_History                 0\n",
              "Alcohol_Consumption             0\n",
              "Fruit_Consumption               0\n",
              "Green_Vegetables_Consumption    0\n",
              "FriedPotato_Consumption         0\n",
              "dtype: int64"
            ]
          },
          "execution_count": 5,
          "metadata": {},
          "output_type": "execute_result"
        }
      ],
      "source": [
        "# Determining if there are any null/missing values that need to be addressed\n",
        "\n",
        "df.isnull().sum()"
      ]
    },
    {
      "cell_type": "markdown",
      "metadata": {
        "id": "ZgMyyIY_OMs6"
      },
      "source": [
        "There are no missing values in dataset."
      ]
    },
    {
      "cell_type": "markdown",
      "metadata": {
        "id": "UdTH6Kj4OTBi"
      },
      "source": [
        "## Outliers/Summary Statistics"
      ]
    },
    {
      "cell_type": "code",
      "execution_count": 6,
      "metadata": {
        "colab": {
          "base_uri": "https://localhost:8080/",
          "height": 0
        },
        "id": "GHUa3cC7Ob17",
        "outputId": "c749eb7d-b859-4a7f-98ac-ad3f351e5a22"
      },
      "outputs": [
        {
          "data": {
            "image/png": "[encoded data removed]",
            "text/plain": [
              "<Figure size 1440x360 with 1 Axes>"
            ]
          },
          "metadata": {
            "needs_background": "light"
          },
          "output_type": "display_data"
        }
      ],
      "source": [
        "# Visualizing overall values of the numerical variables in the dataset\n",
        "\n",
        "plt.figure(figsize = (20,5))\n",
        "df.boxplot()\n",
        "plt.show()"
      ]
    },
    {
      "cell_type": "code",
      "execution_count": 7,
      "metadata": {
        "colab": {
          "base_uri": "https://localhost:8080/",
          "height": 0
        },
        "id": "UNodGmDzOlUK",
        "outputId": "f14657ad-3557-4d69-d4f9-06af54764580"
      },
      "outputs": [
        {
          "data": {
            "text/html": [
              "<div>\n",
              "<style scoped>\n",
              "    .dataframe tbody tr th:only-of-type {\n",
              "        vertical-align: middle;\n",
              "    }\n",
              "\n",
              "    .dataframe tbody tr th {\n",
              "        vertical-align: top;\n",
              "    }\n",
              "\n",
              "    .dataframe thead th {\n",
              "        text-align: right;\n",
              "    }\n",
              "</style>\n",
              "<table border=\"1\" class=\"dataframe\">\n",
              "  <thead>\n",
              "    <tr style=\"text-align: right;\">\n",
              "      <th></th>\n",
              "      <th>Height</th>\n",
              "      <th>Weight</th>\n",
              "      <th>BMI</th>\n",
              "      <th>Alcohol_Consumption</th>\n",
              "      <th>Fruit_Consumption</th>\n",
              "      <th>Green_Vegetables_Consumption</th>\n",
              "      <th>FriedPotato_Consumption</th>\n",
              "    </tr>\n",
              "  </thead>\n",
              "  <tbody>\n",
              "    <tr>\n",
              "      <th>count</th>\n",
              "      <td>308854.000000</td>\n",
              "      <td>308854.000000</td>\n",
              "      <td>308854.000000</td>\n",
              "      <td>308854.000000</td>\n",
              "      <td>308854.000000</td>\n",
              "      <td>308854.000000</td>\n",
              "      <td>308854.000000</td>\n",
              "    </tr>\n",
              "    <tr>\n",
              "      <th>mean</th>\n",
              "      <td>170.615249</td>\n",
              "      <td>83.588655</td>\n",
              "      <td>28.626211</td>\n",
              "      <td>5.096366</td>\n",
              "      <td>29.835200</td>\n",
              "      <td>15.110441</td>\n",
              "      <td>6.296616</td>\n",
              "    </tr>\n",
              "    <tr>\n",
              "      <th>std</th>\n",
              "      <td>10.658026</td>\n",
              "      <td>21.343210</td>\n",
              "      <td>6.522323</td>\n",
              "      <td>8.199763</td>\n",
              "      <td>24.875735</td>\n",
              "      <td>14.926238</td>\n",
              "      <td>8.582954</td>\n",
              "    </tr>\n",
              "    <tr>\n",
              "      <th>min</th>\n",
              "      <td>91.000000</td>\n",
              "      <td>24.950000</td>\n",
              "      <td>12.020000</td>\n",
              "      <td>0.000000</td>\n",
              "      <td>0.000000</td>\n",
              "      <td>0.000000</td>\n",
              "      <td>0.000000</td>\n",
              "    </tr>\n",
              "    <tr>\n",
              "      <th>25%</th>\n",
              "      <td>163.000000</td>\n",
              "      <td>68.040000</td>\n",
              "      <td>24.210000</td>\n",
              "      <td>0.000000</td>\n",
              "      <td>12.000000</td>\n",
              "      <td>4.000000</td>\n",
              "      <td>2.000000</td>\n",
              "    </tr>\n",
              "    <tr>\n",
              "      <th>50%</th>\n",
              "      <td>170.000000</td>\n",
              "      <td>81.650000</td>\n",
              "      <td>27.440000</td>\n",
              "      <td>1.000000</td>\n",
              "      <td>30.000000</td>\n",
              "      <td>12.000000</td>\n",
              "      <td>4.000000</td>\n",
              "    </tr>\n",
              "    <tr>\n",
              "      <th>75%</th>\n",
              "      <td>178.000000</td>\n",
              "      <td>95.250000</td>\n",
              "      <td>31.850000</td>\n",
              "      <td>6.000000</td>\n",
              "      <td>30.000000</td>\n",
              "      <td>20.000000</td>\n",
              "      <td>8.000000</td>\n",
              "    </tr>\n",
              "    <tr>\n",
              "      <th>max</th>\n",
              "      <td>241.000000</td>\n",
              "      <td>293.020000</td>\n",
              "      <td>99.330000</td>\n",
              "      <td>30.000000</td>\n",
              "      <td>120.000000</td>\n",
              "      <td>128.000000</td>\n",
              "      <td>128.000000</td>\n",
              "    </tr>\n",
              "  </tbody>\n",
              "</table>\n",
              "</div>"
            ],
            "text/plain": [
              "              Height         Weight            BMI  Alcohol_Consumption  \\\n",
              "count  308854.000000  308854.000000  308854.000000        308854.000000   \n",
              "mean      170.615249      83.588655      28.626211             5.096366   \n",
              "std        10.658026      21.343210       6.522323             8.199763   \n",
              "min        91.000000      24.950000      12.020000             0.000000   \n",
              "25%       163.000000      68.040000      24.210000             0.000000   \n",
              "50%       170.000000      81.650000      27.440000             1.000000   \n",
              "75%       178.000000      95.250000      31.850000             6.000000   \n",
              "max       241.000000     293.020000      99.330000            30.000000   \n",
              "\n",
              "       Fruit_Consumption  Green_Vegetables_Consumption  \\\n",
              "count      308854.000000                 308854.000000   \n",
              "mean           29.835200                     15.110441   \n",
              "std            24.875735                     14.926238   \n",
              "min             0.000000                      0.000000   \n",
              "25%            12.000000                      4.000000   \n",
              "50%            30.000000                     12.000000   \n",
              "75%            30.000000                     20.000000   \n",
              "max           120.000000                    128.000000   \n",
              "\n",
              "       FriedPotato_Consumption  \n",
              "count            308854.000000  \n",
              "mean                  6.296616  \n",
              "std                   8.582954  \n",
              "min                   0.000000  \n",
              "25%                   2.000000  \n",
              "50%                   4.000000  \n",
              "75%                   8.000000  \n",
              "max                 128.000000  "
            ]
          },
          "execution_count": 7,
          "metadata": {},
          "output_type": "execute_result"
        }
      ],
      "source": [
        "# Providing summary statistics of the numerical variables in the dataset\n",
        "\n",
        "df.describe()"
      ]
    },
    {
      "cell_type": "markdown",
      "metadata": {
        "id": "ry1QeCGvPG3q"
      },
      "source": [
        "Height:\n",
        "* The range for height is 91-241cm. This may contain outliers, as 241 cm is ~ 8 feet tall.\n",
        "\n",
        "Weight:\n",
        "* The range for weight is 24.95-293kg. This may contain outliers, as 293 kg is ~ 536 lbs.\n",
        "\n",
        "BMI:\n",
        "* the range for BMI is 12.02-99.33. A BMI of 99.33 is extremely high and may be an outlier or error.\n",
        "\n",
        "Alcohol Consumption:\n",
        "* The range for alcohol consumption is 0-30. \n",
        "\n",
        "Fruit Consumption:\n",
        "* The range for fruit consumption is 0-120. \n",
        "\n",
        "Green Vegetable Consumption:\n",
        "* The range for green vegetable consumption is 0-128.\n",
        "\n",
        "Fried Potato Consumption:\n",
        "* The range for fried potato consumption is 0-128."
      ]
    },
    {
      "cell_type": "markdown",
      "metadata": {
        "id": "Fuo5ugB-RyZx"
      },
      "source": [
        "## Duplicates"
      ]
    },
    {
      "cell_type": "code",
      "execution_count": 8,
      "metadata": {
        "colab": {
          "base_uri": "https://localhost:8080/"
        },
        "id": "21lJQL1ISMup",
        "outputId": "dc25d32d-a78d-4919-b16c-80ddf0dadfaf"
      },
      "outputs": [
        {
          "data": {
            "text/plain": [
              "80"
            ]
          },
          "execution_count": 8,
          "metadata": {},
          "output_type": "execute_result"
        }
      ],
      "source": [
        "# Determining the number of duplicate data points in the dataset\n",
        "\n",
        "df.duplicated().sum()"
      ]
    },
    {
      "cell_type": "markdown",
      "metadata": {
        "id": "bUsxUh5ZSYNR"
      },
      "source": [
        "There are 80 duplicates in the dataset. These duplicates will be removed from the dataset."
      ]
    },
    {
      "cell_type": "code",
      "execution_count": 9,
      "metadata": {
        "id": "2okIKHhxSfz5"
      },
      "outputs": [],
      "source": [
        "# Removing duplicates from the dataset\n",
        "\n",
        "df = df.drop_duplicates()"
      ]
    },
    {
      "cell_type": "markdown",
      "metadata": {
        "id": "OoXpqpRdSwib"
      },
      "source": [
        "## Data Preparation"
      ]
    },
    {
      "cell_type": "code",
      "execution_count": 29,
      "metadata": {},
      "outputs": [],
      "source": [
        "# Importing library for data preparation\n",
        "\n",
        "from sklearn.preprocessing import OrdinalEncoder"
      ]
    },
    {
      "cell_type": "markdown",
      "metadata": {
        "id": "VmLfx5EBavX3"
      },
      "source": [
        "### Encoding Yes/No Variables"
      ]
    },
    {
      "cell_type": "code",
      "execution_count": 10,
      "metadata": {},
      "outputs": [
        {
          "data": {
            "text/html": [
              "<div>\n",
              "<style scoped>\n",
              "    .dataframe tbody tr th:only-of-type {\n",
              "        vertical-align: middle;\n",
              "    }\n",
              "\n",
              "    .dataframe tbody tr th {\n",
              "        vertical-align: top;\n",
              "    }\n",
              "\n",
              "    .dataframe thead th {\n",
              "        text-align: right;\n",
              "    }\n",
              "</style>\n",
              "<table border=\"1\" class=\"dataframe\">\n",
              "  <thead>\n",
              "    <tr style=\"text-align: right;\">\n",
              "      <th></th>\n",
              "      <th>General_Health</th>\n",
              "      <th>Checkup</th>\n",
              "      <th>Exercise</th>\n",
              "      <th>Heart_Disease</th>\n",
              "      <th>Skin_Cancer</th>\n",
              "      <th>Other_Cancer</th>\n",
              "      <th>Depression</th>\n",
              "      <th>Diabetes</th>\n",
              "      <th>Arthritis</th>\n",
              "      <th>Sex</th>\n",
              "      <th>Age_Category</th>\n",
              "      <th>Height</th>\n",
              "      <th>Weight</th>\n",
              "      <th>BMI</th>\n",
              "      <th>Smoking_History</th>\n",
              "      <th>Alcohol_Consumption</th>\n",
              "      <th>Fruit_Consumption</th>\n",
              "      <th>Green_Vegetables_Consumption</th>\n",
              "      <th>FriedPotato_Consumption</th>\n",
              "    </tr>\n",
              "  </thead>\n",
              "  <tbody>\n",
              "    <tr>\n",
              "      <th>0</th>\n",
              "      <td>Poor</td>\n",
              "      <td>Within the past 2 years</td>\n",
              "      <td>0.0</td>\n",
              "      <td>0.0</td>\n",
              "      <td>0.0</td>\n",
              "      <td>0.0</td>\n",
              "      <td>0.0</td>\n",
              "      <td>No</td>\n",
              "      <td>1.0</td>\n",
              "      <td>0.0</td>\n",
              "      <td>70-74</td>\n",
              "      <td>150.0</td>\n",
              "      <td>32.66</td>\n",
              "      <td>14.54</td>\n",
              "      <td>1.0</td>\n",
              "      <td>0.0</td>\n",
              "      <td>30.0</td>\n",
              "      <td>16.0</td>\n",
              "      <td>12.0</td>\n",
              "    </tr>\n",
              "    <tr>\n",
              "      <th>1</th>\n",
              "      <td>Very Good</td>\n",
              "      <td>Within the past year</td>\n",
              "      <td>0.0</td>\n",
              "      <td>1.0</td>\n",
              "      <td>0.0</td>\n",
              "      <td>0.0</td>\n",
              "      <td>0.0</td>\n",
              "      <td>Yes</td>\n",
              "      <td>0.0</td>\n",
              "      <td>0.0</td>\n",
              "      <td>70-74</td>\n",
              "      <td>165.0</td>\n",
              "      <td>77.11</td>\n",
              "      <td>28.29</td>\n",
              "      <td>0.0</td>\n",
              "      <td>0.0</td>\n",
              "      <td>30.0</td>\n",
              "      <td>0.0</td>\n",
              "      <td>4.0</td>\n",
              "    </tr>\n",
              "    <tr>\n",
              "      <th>2</th>\n",
              "      <td>Very Good</td>\n",
              "      <td>Within the past year</td>\n",
              "      <td>1.0</td>\n",
              "      <td>0.0</td>\n",
              "      <td>0.0</td>\n",
              "      <td>0.0</td>\n",
              "      <td>0.0</td>\n",
              "      <td>Yes</td>\n",
              "      <td>0.0</td>\n",
              "      <td>0.0</td>\n",
              "      <td>60-64</td>\n",
              "      <td>163.0</td>\n",
              "      <td>88.45</td>\n",
              "      <td>33.47</td>\n",
              "      <td>0.0</td>\n",
              "      <td>4.0</td>\n",
              "      <td>12.0</td>\n",
              "      <td>3.0</td>\n",
              "      <td>16.0</td>\n",
              "    </tr>\n",
              "    <tr>\n",
              "      <th>3</th>\n",
              "      <td>Poor</td>\n",
              "      <td>Within the past year</td>\n",
              "      <td>1.0</td>\n",
              "      <td>1.0</td>\n",
              "      <td>0.0</td>\n",
              "      <td>0.0</td>\n",
              "      <td>0.0</td>\n",
              "      <td>Yes</td>\n",
              "      <td>0.0</td>\n",
              "      <td>1.0</td>\n",
              "      <td>75-79</td>\n",
              "      <td>180.0</td>\n",
              "      <td>93.44</td>\n",
              "      <td>28.73</td>\n",
              "      <td>0.0</td>\n",
              "      <td>0.0</td>\n",
              "      <td>30.0</td>\n",
              "      <td>30.0</td>\n",
              "      <td>8.0</td>\n",
              "    </tr>\n",
              "    <tr>\n",
              "      <th>4</th>\n",
              "      <td>Good</td>\n",
              "      <td>Within the past year</td>\n",
              "      <td>0.0</td>\n",
              "      <td>0.0</td>\n",
              "      <td>0.0</td>\n",
              "      <td>0.0</td>\n",
              "      <td>0.0</td>\n",
              "      <td>No</td>\n",
              "      <td>0.0</td>\n",
              "      <td>1.0</td>\n",
              "      <td>80+</td>\n",
              "      <td>191.0</td>\n",
              "      <td>88.45</td>\n",
              "      <td>24.37</td>\n",
              "      <td>1.0</td>\n",
              "      <td>0.0</td>\n",
              "      <td>8.0</td>\n",
              "      <td>4.0</td>\n",
              "      <td>0.0</td>\n",
              "    </tr>\n",
              "  </tbody>\n",
              "</table>\n",
              "</div>"
            ],
            "text/plain": [
              "  General_Health                  Checkup  Exercise  Heart_Disease  \\\n",
              "0           Poor  Within the past 2 years       0.0            0.0   \n",
              "1      Very Good     Within the past year       0.0            1.0   \n",
              "2      Very Good     Within the past year       1.0            0.0   \n",
              "3           Poor     Within the past year       1.0            1.0   \n",
              "4           Good     Within the past year       0.0            0.0   \n",
              "\n",
              "   Skin_Cancer  Other_Cancer  Depression Diabetes  Arthritis  Sex  \\\n",
              "0          0.0           0.0         0.0       No        1.0  0.0   \n",
              "1          0.0           0.0         0.0      Yes        0.0  0.0   \n",
              "2          0.0           0.0         0.0      Yes        0.0  0.0   \n",
              "3          0.0           0.0         0.0      Yes        0.0  1.0   \n",
              "4          0.0           0.0         0.0       No        0.0  1.0   \n",
              "\n",
              "  Age_Category  Height  Weight    BMI  Smoking_History  Alcohol_Consumption  \\\n",
              "0        70-74   150.0   32.66  14.54              1.0                  0.0   \n",
              "1        70-74   165.0   77.11  28.29              0.0                  0.0   \n",
              "2        60-64   163.0   88.45  33.47              0.0                  4.0   \n",
              "3        75-79   180.0   93.44  28.73              0.0                  0.0   \n",
              "4          80+   191.0   88.45  24.37              1.0                  0.0   \n",
              "\n",
              "   Fruit_Consumption  Green_Vegetables_Consumption  FriedPotato_Consumption  \n",
              "0               30.0                          16.0                     12.0  \n",
              "1               30.0                           0.0                      4.0  \n",
              "2               12.0                           3.0                     16.0  \n",
              "3               30.0                          30.0                      8.0  \n",
              "4                8.0                           4.0                      0.0  "
            ]
          },
          "execution_count": 10,
          "metadata": {},
          "output_type": "execute_result"
        }
      ],
      "source": [
        "# Encoding Yes/No variables to binary: \n",
        "# Yes values were encoded with a value of 1\n",
        "# No values were encoded with a value of 2\n",
        "\n",
        "encode = OrdinalEncoder()\n",
        "\n",
        "df['Exercise'] = encode.fit_transform(df[['Exercise']])\n",
        "df['Heart_Disease'] = encode.fit_transform(df[['Heart_Disease']])\n",
        "df['Skin_Cancer'] = encode.fit_transform(df[['Skin_Cancer']])\n",
        "df['Other_Cancer'] = encode.fit_transform(df[['Other_Cancer']])\n",
        "df['Depression'] = encode.fit_transform(df[['Depression']])\n",
        "df['Sex'] = encode.fit_transform(df[['Sex']])\n",
        "df['Arthritis'] = encode.fit_transform(df[['Arthritis']])\n",
        "df['Smoking_History'] = encode.fit_transform(df[['Smoking_History']])\n",
        "\n",
        "df.head()"
      ]
    },
    {
      "cell_type": "markdown",
      "metadata": {
        "id": "jJip564Ka0uX"
      },
      "source": [
        "### General Health Variable Encoding"
      ]
    },
    {
      "cell_type": "code",
      "execution_count": 11,
      "metadata": {
        "id": "H6MFxuecau24"
      },
      "outputs": [
        {
          "data": {
            "text/html": [
              "<div>\n",
              "<style scoped>\n",
              "    .dataframe tbody tr th:only-of-type {\n",
              "        vertical-align: middle;\n",
              "    }\n",
              "\n",
              "    .dataframe tbody tr th {\n",
              "        vertical-align: top;\n",
              "    }\n",
              "\n",
              "    .dataframe thead th {\n",
              "        text-align: right;\n",
              "    }\n",
              "</style>\n",
              "<table border=\"1\" class=\"dataframe\">\n",
              "  <thead>\n",
              "    <tr style=\"text-align: right;\">\n",
              "      <th></th>\n",
              "      <th>General_Health</th>\n",
              "      <th>Checkup</th>\n",
              "      <th>Exercise</th>\n",
              "      <th>Heart_Disease</th>\n",
              "      <th>Skin_Cancer</th>\n",
              "      <th>Other_Cancer</th>\n",
              "      <th>Depression</th>\n",
              "      <th>Diabetes</th>\n",
              "      <th>Arthritis</th>\n",
              "      <th>Sex</th>\n",
              "      <th>Age_Category</th>\n",
              "      <th>Height</th>\n",
              "      <th>Weight</th>\n",
              "      <th>BMI</th>\n",
              "      <th>Smoking_History</th>\n",
              "      <th>Alcohol_Consumption</th>\n",
              "      <th>Fruit_Consumption</th>\n",
              "      <th>Green_Vegetables_Consumption</th>\n",
              "      <th>FriedPotato_Consumption</th>\n",
              "    </tr>\n",
              "  </thead>\n",
              "  <tbody>\n",
              "    <tr>\n",
              "      <th>0</th>\n",
              "      <td>0.0</td>\n",
              "      <td>Within the past 2 years</td>\n",
              "      <td>0.0</td>\n",
              "      <td>0.0</td>\n",
              "      <td>0.0</td>\n",
              "      <td>0.0</td>\n",
              "      <td>0.0</td>\n",
              "      <td>No</td>\n",
              "      <td>1.0</td>\n",
              "      <td>0.0</td>\n",
              "      <td>70-74</td>\n",
              "      <td>150.0</td>\n",
              "      <td>32.66</td>\n",
              "      <td>14.54</td>\n",
              "      <td>1.0</td>\n",
              "      <td>0.0</td>\n",
              "      <td>30.0</td>\n",
              "      <td>16.0</td>\n",
              "      <td>12.0</td>\n",
              "    </tr>\n",
              "    <tr>\n",
              "      <th>1</th>\n",
              "      <td>3.0</td>\n",
              "      <td>Within the past year</td>\n",
              "      <td>0.0</td>\n",
              "      <td>1.0</td>\n",
              "      <td>0.0</td>\n",
              "      <td>0.0</td>\n",
              "      <td>0.0</td>\n",
              "      <td>Yes</td>\n",
              "      <td>0.0</td>\n",
              "      <td>0.0</td>\n",
              "      <td>70-74</td>\n",
              "      <td>165.0</td>\n",
              "      <td>77.11</td>\n",
              "      <td>28.29</td>\n",
              "      <td>0.0</td>\n",
              "      <td>0.0</td>\n",
              "      <td>30.0</td>\n",
              "      <td>0.0</td>\n",
              "      <td>4.0</td>\n",
              "    </tr>\n",
              "    <tr>\n",
              "      <th>2</th>\n",
              "      <td>3.0</td>\n",
              "      <td>Within the past year</td>\n",
              "      <td>1.0</td>\n",
              "      <td>0.0</td>\n",
              "      <td>0.0</td>\n",
              "      <td>0.0</td>\n",
              "      <td>0.0</td>\n",
              "      <td>Yes</td>\n",
              "      <td>0.0</td>\n",
              "      <td>0.0</td>\n",
              "      <td>60-64</td>\n",
              "      <td>163.0</td>\n",
              "      <td>88.45</td>\n",
              "      <td>33.47</td>\n",
              "      <td>0.0</td>\n",
              "      <td>4.0</td>\n",
              "      <td>12.0</td>\n",
              "      <td>3.0</td>\n",
              "      <td>16.0</td>\n",
              "    </tr>\n",
              "    <tr>\n",
              "      <th>3</th>\n",
              "      <td>0.0</td>\n",
              "      <td>Within the past year</td>\n",
              "      <td>1.0</td>\n",
              "      <td>1.0</td>\n",
              "      <td>0.0</td>\n",
              "      <td>0.0</td>\n",
              "      <td>0.0</td>\n",
              "      <td>Yes</td>\n",
              "      <td>0.0</td>\n",
              "      <td>1.0</td>\n",
              "      <td>75-79</td>\n",
              "      <td>180.0</td>\n",
              "      <td>93.44</td>\n",
              "      <td>28.73</td>\n",
              "      <td>0.0</td>\n",
              "      <td>0.0</td>\n",
              "      <td>30.0</td>\n",
              "      <td>30.0</td>\n",
              "      <td>8.0</td>\n",
              "    </tr>\n",
              "    <tr>\n",
              "      <th>4</th>\n",
              "      <td>2.0</td>\n",
              "      <td>Within the past year</td>\n",
              "      <td>0.0</td>\n",
              "      <td>0.0</td>\n",
              "      <td>0.0</td>\n",
              "      <td>0.0</td>\n",
              "      <td>0.0</td>\n",
              "      <td>No</td>\n",
              "      <td>0.0</td>\n",
              "      <td>1.0</td>\n",
              "      <td>80+</td>\n",
              "      <td>191.0</td>\n",
              "      <td>88.45</td>\n",
              "      <td>24.37</td>\n",
              "      <td>1.0</td>\n",
              "      <td>0.0</td>\n",
              "      <td>8.0</td>\n",
              "      <td>4.0</td>\n",
              "      <td>0.0</td>\n",
              "    </tr>\n",
              "  </tbody>\n",
              "</table>\n",
              "</div>"
            ],
            "text/plain": [
              "   General_Health                  Checkup  Exercise  Heart_Disease  \\\n",
              "0             0.0  Within the past 2 years       0.0            0.0   \n",
              "1             3.0     Within the past year       0.0            1.0   \n",
              "2             3.0     Within the past year       1.0            0.0   \n",
              "3             0.0     Within the past year       1.0            1.0   \n",
              "4             2.0     Within the past year       0.0            0.0   \n",
              "\n",
              "   Skin_Cancer  Other_Cancer  Depression Diabetes  Arthritis  Sex  \\\n",
              "0          0.0           0.0         0.0       No        1.0  0.0   \n",
              "1          0.0           0.0         0.0      Yes        0.0  0.0   \n",
              "2          0.0           0.0         0.0      Yes        0.0  0.0   \n",
              "3          0.0           0.0         0.0      Yes        0.0  1.0   \n",
              "4          0.0           0.0         0.0       No        0.0  1.0   \n",
              "\n",
              "  Age_Category  Height  Weight    BMI  Smoking_History  Alcohol_Consumption  \\\n",
              "0        70-74   150.0   32.66  14.54              1.0                  0.0   \n",
              "1        70-74   165.0   77.11  28.29              0.0                  0.0   \n",
              "2        60-64   163.0   88.45  33.47              0.0                  4.0   \n",
              "3        75-79   180.0   93.44  28.73              0.0                  0.0   \n",
              "4          80+   191.0   88.45  24.37              1.0                  0.0   \n",
              "\n",
              "   Fruit_Consumption  Green_Vegetables_Consumption  FriedPotato_Consumption  \n",
              "0               30.0                          16.0                     12.0  \n",
              "1               30.0                           0.0                      4.0  \n",
              "2               12.0                           3.0                     16.0  \n",
              "3               30.0                          30.0                      8.0  \n",
              "4                8.0                           4.0                      0.0  "
            ]
          },
          "execution_count": 11,
          "metadata": {},
          "output_type": "execute_result"
        }
      ],
      "source": [
        "# Encoding levels for the General Health Variable: \n",
        "# Poor values were encoded with a value of 0\n",
        "# Fair values were encoded with a value of 1\n",
        "# Good values were encoded with a value of 2\n",
        "# Very Good values were encoded with a value of 3\n",
        "# Excellent values were encoded with a value of 4\n",
        "\n",
        "gh_levels = ['Poor', 'Fair', 'Good', 'Very Good', 'Excellent']\n",
        "gh_encode = OrdinalEncoder(categories = [gh_levels])\n",
        "\n",
        "df['General_Health'] = gh_encode.fit_transform(df[['General_Health']])\n",
        "df.head()"
      ]
    },
    {
      "cell_type": "markdown",
      "metadata": {
        "id": "bEf1cOINa5v_"
      },
      "source": [
        "### Checkup Variable Encoding"
      ]
    },
    {
      "cell_type": "code",
      "execution_count": 12,
      "metadata": {
        "id": "DqQqE29Ga8bP"
      },
      "outputs": [
        {
          "data": {
            "text/html": [
              "<div>\n",
              "<style scoped>\n",
              "    .dataframe tbody tr th:only-of-type {\n",
              "        vertical-align: middle;\n",
              "    }\n",
              "\n",
              "    .dataframe tbody tr th {\n",
              "        vertical-align: top;\n",
              "    }\n",
              "\n",
              "    .dataframe thead th {\n",
              "        text-align: right;\n",
              "    }\n",
              "</style>\n",
              "<table border=\"1\" class=\"dataframe\">\n",
              "  <thead>\n",
              "    <tr style=\"text-align: right;\">\n",
              "      <th></th>\n",
              "      <th>General_Health</th>\n",
              "      <th>Checkup</th>\n",
              "      <th>Exercise</th>\n",
              "      <th>Heart_Disease</th>\n",
              "      <th>Skin_Cancer</th>\n",
              "      <th>Other_Cancer</th>\n",
              "      <th>Depression</th>\n",
              "      <th>Diabetes</th>\n",
              "      <th>Arthritis</th>\n",
              "      <th>Sex</th>\n",
              "      <th>Age_Category</th>\n",
              "      <th>Height</th>\n",
              "      <th>Weight</th>\n",
              "      <th>BMI</th>\n",
              "      <th>Smoking_History</th>\n",
              "      <th>Alcohol_Consumption</th>\n",
              "      <th>Fruit_Consumption</th>\n",
              "      <th>Green_Vegetables_Consumption</th>\n",
              "      <th>FriedPotato_Consumption</th>\n",
              "    </tr>\n",
              "  </thead>\n",
              "  <tbody>\n",
              "    <tr>\n",
              "      <th>0</th>\n",
              "      <td>0.0</td>\n",
              "      <td>1.0</td>\n",
              "      <td>0.0</td>\n",
              "      <td>0.0</td>\n",
              "      <td>0.0</td>\n",
              "      <td>0.0</td>\n",
              "      <td>0.0</td>\n",
              "      <td>No</td>\n",
              "      <td>1.0</td>\n",
              "      <td>0.0</td>\n",
              "      <td>70-74</td>\n",
              "      <td>150.0</td>\n",
              "      <td>32.66</td>\n",
              "      <td>14.54</td>\n",
              "      <td>1.0</td>\n",
              "      <td>0.0</td>\n",
              "      <td>30.0</td>\n",
              "      <td>16.0</td>\n",
              "      <td>12.0</td>\n",
              "    </tr>\n",
              "    <tr>\n",
              "      <th>1</th>\n",
              "      <td>3.0</td>\n",
              "      <td>0.0</td>\n",
              "      <td>0.0</td>\n",
              "      <td>1.0</td>\n",
              "      <td>0.0</td>\n",
              "      <td>0.0</td>\n",
              "      <td>0.0</td>\n",
              "      <td>Yes</td>\n",
              "      <td>0.0</td>\n",
              "      <td>0.0</td>\n",
              "      <td>70-74</td>\n",
              "      <td>165.0</td>\n",
              "      <td>77.11</td>\n",
              "      <td>28.29</td>\n",
              "      <td>0.0</td>\n",
              "      <td>0.0</td>\n",
              "      <td>30.0</td>\n",
              "      <td>0.0</td>\n",
              "      <td>4.0</td>\n",
              "    </tr>\n",
              "    <tr>\n",
              "      <th>2</th>\n",
              "      <td>3.0</td>\n",
              "      <td>0.0</td>\n",
              "      <td>1.0</td>\n",
              "      <td>0.0</td>\n",
              "      <td>0.0</td>\n",
              "      <td>0.0</td>\n",
              "      <td>0.0</td>\n",
              "      <td>Yes</td>\n",
              "      <td>0.0</td>\n",
              "      <td>0.0</td>\n",
              "      <td>60-64</td>\n",
              "      <td>163.0</td>\n",
              "      <td>88.45</td>\n",
              "      <td>33.47</td>\n",
              "      <td>0.0</td>\n",
              "      <td>4.0</td>\n",
              "      <td>12.0</td>\n",
              "      <td>3.0</td>\n",
              "      <td>16.0</td>\n",
              "    </tr>\n",
              "    <tr>\n",
              "      <th>3</th>\n",
              "      <td>0.0</td>\n",
              "      <td>0.0</td>\n",
              "      <td>1.0</td>\n",
              "      <td>1.0</td>\n",
              "      <td>0.0</td>\n",
              "      <td>0.0</td>\n",
              "      <td>0.0</td>\n",
              "      <td>Yes</td>\n",
              "      <td>0.0</td>\n",
              "      <td>1.0</td>\n",
              "      <td>75-79</td>\n",
              "      <td>180.0</td>\n",
              "      <td>93.44</td>\n",
              "      <td>28.73</td>\n",
              "      <td>0.0</td>\n",
              "      <td>0.0</td>\n",
              "      <td>30.0</td>\n",
              "      <td>30.0</td>\n",
              "      <td>8.0</td>\n",
              "    </tr>\n",
              "    <tr>\n",
              "      <th>4</th>\n",
              "      <td>2.0</td>\n",
              "      <td>0.0</td>\n",
              "      <td>0.0</td>\n",
              "      <td>0.0</td>\n",
              "      <td>0.0</td>\n",
              "      <td>0.0</td>\n",
              "      <td>0.0</td>\n",
              "      <td>No</td>\n",
              "      <td>0.0</td>\n",
              "      <td>1.0</td>\n",
              "      <td>80+</td>\n",
              "      <td>191.0</td>\n",
              "      <td>88.45</td>\n",
              "      <td>24.37</td>\n",
              "      <td>1.0</td>\n",
              "      <td>0.0</td>\n",
              "      <td>8.0</td>\n",
              "      <td>4.0</td>\n",
              "      <td>0.0</td>\n",
              "    </tr>\n",
              "  </tbody>\n",
              "</table>\n",
              "</div>"
            ],
            "text/plain": [
              "   General_Health  Checkup  Exercise  Heart_Disease  Skin_Cancer  \\\n",
              "0             0.0      1.0       0.0            0.0          0.0   \n",
              "1             3.0      0.0       0.0            1.0          0.0   \n",
              "2             3.0      0.0       1.0            0.0          0.0   \n",
              "3             0.0      0.0       1.0            1.0          0.0   \n",
              "4             2.0      0.0       0.0            0.0          0.0   \n",
              "\n",
              "   Other_Cancer  Depression Diabetes  Arthritis  Sex Age_Category  Height  \\\n",
              "0           0.0         0.0       No        1.0  0.0        70-74   150.0   \n",
              "1           0.0         0.0      Yes        0.0  0.0        70-74   165.0   \n",
              "2           0.0         0.0      Yes        0.0  0.0        60-64   163.0   \n",
              "3           0.0         0.0      Yes        0.0  1.0        75-79   180.0   \n",
              "4           0.0         0.0       No        0.0  1.0          80+   191.0   \n",
              "\n",
              "   Weight    BMI  Smoking_History  Alcohol_Consumption  Fruit_Consumption  \\\n",
              "0   32.66  14.54              1.0                  0.0               30.0   \n",
              "1   77.11  28.29              0.0                  0.0               30.0   \n",
              "2   88.45  33.47              0.0                  4.0               12.0   \n",
              "3   93.44  28.73              0.0                  0.0               30.0   \n",
              "4   88.45  24.37              1.0                  0.0                8.0   \n",
              "\n",
              "   Green_Vegetables_Consumption  FriedPotato_Consumption  \n",
              "0                          16.0                     12.0  \n",
              "1                           0.0                      4.0  \n",
              "2                           3.0                     16.0  \n",
              "3                          30.0                      8.0  \n",
              "4                           4.0                      0.0  "
            ]
          },
          "execution_count": 12,
          "metadata": {},
          "output_type": "execute_result"
        }
      ],
      "source": [
        "# Encoding levels for the Checkup Variable:\n",
        "# Within the past year values were encoded with a value of 0\n",
        "# Within the past 2 years values were encoded with a value of 1\n",
        "# Within the past 5 years values were encoded with a value of 2\n",
        "# 5 or more years ago values were encoded with a value of 3\n",
        "# Never values were encoded with a value of 4\n",
        "\n",
        "ch_levels = ['Within the past year', 'Within the past 2 years', 'Within the past 5 years', '5 or more years ago', 'Never']\n",
        "ch_encode = OrdinalEncoder(categories = [ch_levels])\n",
        "\n",
        "df['Checkup'] = ch_encode.fit_transform(df[['Checkup']])\n",
        "df.head()"
      ]
    },
    {
      "cell_type": "markdown",
      "metadata": {
        "id": "mhRANTO5byfO"
      },
      "source": [
        "### Diabetes Variable Encoding"
      ]
    },
    {
      "cell_type": "code",
      "execution_count": 13,
      "metadata": {
        "id": "n6r2LiDab0_m"
      },
      "outputs": [
        {
          "data": {
            "text/html": [
              "<div>\n",
              "<style scoped>\n",
              "    .dataframe tbody tr th:only-of-type {\n",
              "        vertical-align: middle;\n",
              "    }\n",
              "\n",
              "    .dataframe tbody tr th {\n",
              "        vertical-align: top;\n",
              "    }\n",
              "\n",
              "    .dataframe thead th {\n",
              "        text-align: right;\n",
              "    }\n",
              "</style>\n",
              "<table border=\"1\" class=\"dataframe\">\n",
              "  <thead>\n",
              "    <tr style=\"text-align: right;\">\n",
              "      <th></th>\n",
              "      <th>General_Health</th>\n",
              "      <th>Checkup</th>\n",
              "      <th>Exercise</th>\n",
              "      <th>Heart_Disease</th>\n",
              "      <th>Skin_Cancer</th>\n",
              "      <th>Other_Cancer</th>\n",
              "      <th>Depression</th>\n",
              "      <th>Diabetes</th>\n",
              "      <th>Arthritis</th>\n",
              "      <th>Sex</th>\n",
              "      <th>Age_Category</th>\n",
              "      <th>Height</th>\n",
              "      <th>Weight</th>\n",
              "      <th>BMI</th>\n",
              "      <th>Smoking_History</th>\n",
              "      <th>Alcohol_Consumption</th>\n",
              "      <th>Fruit_Consumption</th>\n",
              "      <th>Green_Vegetables_Consumption</th>\n",
              "      <th>FriedPotato_Consumption</th>\n",
              "    </tr>\n",
              "  </thead>\n",
              "  <tbody>\n",
              "    <tr>\n",
              "      <th>0</th>\n",
              "      <td>0.0</td>\n",
              "      <td>1.0</td>\n",
              "      <td>0.0</td>\n",
              "      <td>0.0</td>\n",
              "      <td>0.0</td>\n",
              "      <td>0.0</td>\n",
              "      <td>0.0</td>\n",
              "      <td>0.0</td>\n",
              "      <td>1.0</td>\n",
              "      <td>0.0</td>\n",
              "      <td>70-74</td>\n",
              "      <td>150.0</td>\n",
              "      <td>32.66</td>\n",
              "      <td>14.54</td>\n",
              "      <td>1.0</td>\n",
              "      <td>0.0</td>\n",
              "      <td>30.0</td>\n",
              "      <td>16.0</td>\n",
              "      <td>12.0</td>\n",
              "    </tr>\n",
              "    <tr>\n",
              "      <th>1</th>\n",
              "      <td>3.0</td>\n",
              "      <td>0.0</td>\n",
              "      <td>0.0</td>\n",
              "      <td>1.0</td>\n",
              "      <td>0.0</td>\n",
              "      <td>0.0</td>\n",
              "      <td>0.0</td>\n",
              "      <td>3.0</td>\n",
              "      <td>0.0</td>\n",
              "      <td>0.0</td>\n",
              "      <td>70-74</td>\n",
              "      <td>165.0</td>\n",
              "      <td>77.11</td>\n",
              "      <td>28.29</td>\n",
              "      <td>0.0</td>\n",
              "      <td>0.0</td>\n",
              "      <td>30.0</td>\n",
              "      <td>0.0</td>\n",
              "      <td>4.0</td>\n",
              "    </tr>\n",
              "    <tr>\n",
              "      <th>2</th>\n",
              "      <td>3.0</td>\n",
              "      <td>0.0</td>\n",
              "      <td>1.0</td>\n",
              "      <td>0.0</td>\n",
              "      <td>0.0</td>\n",
              "      <td>0.0</td>\n",
              "      <td>0.0</td>\n",
              "      <td>3.0</td>\n",
              "      <td>0.0</td>\n",
              "      <td>0.0</td>\n",
              "      <td>60-64</td>\n",
              "      <td>163.0</td>\n",
              "      <td>88.45</td>\n",
              "      <td>33.47</td>\n",
              "      <td>0.0</td>\n",
              "      <td>4.0</td>\n",
              "      <td>12.0</td>\n",
              "      <td>3.0</td>\n",
              "      <td>16.0</td>\n",
              "    </tr>\n",
              "    <tr>\n",
              "      <th>3</th>\n",
              "      <td>0.0</td>\n",
              "      <td>0.0</td>\n",
              "      <td>1.0</td>\n",
              "      <td>1.0</td>\n",
              "      <td>0.0</td>\n",
              "      <td>0.0</td>\n",
              "      <td>0.0</td>\n",
              "      <td>3.0</td>\n",
              "      <td>0.0</td>\n",
              "      <td>1.0</td>\n",
              "      <td>75-79</td>\n",
              "      <td>180.0</td>\n",
              "      <td>93.44</td>\n",
              "      <td>28.73</td>\n",
              "      <td>0.0</td>\n",
              "      <td>0.0</td>\n",
              "      <td>30.0</td>\n",
              "      <td>30.0</td>\n",
              "      <td>8.0</td>\n",
              "    </tr>\n",
              "    <tr>\n",
              "      <th>4</th>\n",
              "      <td>2.0</td>\n",
              "      <td>0.0</td>\n",
              "      <td>0.0</td>\n",
              "      <td>0.0</td>\n",
              "      <td>0.0</td>\n",
              "      <td>0.0</td>\n",
              "      <td>0.0</td>\n",
              "      <td>0.0</td>\n",
              "      <td>0.0</td>\n",
              "      <td>1.0</td>\n",
              "      <td>80+</td>\n",
              "      <td>191.0</td>\n",
              "      <td>88.45</td>\n",
              "      <td>24.37</td>\n",
              "      <td>1.0</td>\n",
              "      <td>0.0</td>\n",
              "      <td>8.0</td>\n",
              "      <td>4.0</td>\n",
              "      <td>0.0</td>\n",
              "    </tr>\n",
              "  </tbody>\n",
              "</table>\n",
              "</div>"
            ],
            "text/plain": [
              "   General_Health  Checkup  Exercise  Heart_Disease  Skin_Cancer  \\\n",
              "0             0.0      1.0       0.0            0.0          0.0   \n",
              "1             3.0      0.0       0.0            1.0          0.0   \n",
              "2             3.0      0.0       1.0            0.0          0.0   \n",
              "3             0.0      0.0       1.0            1.0          0.0   \n",
              "4             2.0      0.0       0.0            0.0          0.0   \n",
              "\n",
              "   Other_Cancer  Depression  Diabetes  Arthritis  Sex Age_Category  Height  \\\n",
              "0           0.0         0.0       0.0        1.0  0.0        70-74   150.0   \n",
              "1           0.0         0.0       3.0        0.0  0.0        70-74   165.0   \n",
              "2           0.0         0.0       3.0        0.0  0.0        60-64   163.0   \n",
              "3           0.0         0.0       3.0        0.0  1.0        75-79   180.0   \n",
              "4           0.0         0.0       0.0        0.0  1.0          80+   191.0   \n",
              "\n",
              "   Weight    BMI  Smoking_History  Alcohol_Consumption  Fruit_Consumption  \\\n",
              "0   32.66  14.54              1.0                  0.0               30.0   \n",
              "1   77.11  28.29              0.0                  0.0               30.0   \n",
              "2   88.45  33.47              0.0                  4.0               12.0   \n",
              "3   93.44  28.73              0.0                  0.0               30.0   \n",
              "4   88.45  24.37              1.0                  0.0                8.0   \n",
              "\n",
              "   Green_Vegetables_Consumption  FriedPotato_Consumption  \n",
              "0                          16.0                     12.0  \n",
              "1                           0.0                      4.0  \n",
              "2                           3.0                     16.0  \n",
              "3                          30.0                      8.0  \n",
              "4                           4.0                      0.0  "
            ]
          },
          "execution_count": 13,
          "metadata": {},
          "output_type": "execute_result"
        }
      ],
      "source": [
        "# Encoding levels for the Diabetes Variable:\n",
        "# No values were encoded with a value of 0\n",
        "# No, pre-diabetes or borderline diabetes values were encoded with a value of 1\n",
        "# Yes, but female told only during pregnancy values were encoded with a value of 2\n",
        "# Yes values were encoded with a value of 3\n",
        "\n",
        "d_levels = ['No', 'No, pre-diabetes or borderline diabetes', 'Yes, but female told only during pregnancy', 'Yes']\n",
        "d_encode = OrdinalEncoder(categories = [d_levels])\n",
        "\n",
        "df['Diabetes'] = d_encode.fit_transform(df[['Diabetes']])\n",
        "df.head()"
      ]
    },
    {
      "cell_type": "markdown",
      "metadata": {
        "id": "wpiyuoDJb_x3"
      },
      "source": [
        "### Age"
      ]
    },
    {
      "cell_type": "code",
      "execution_count": 14,
      "metadata": {
        "id": "-EhphJDxdAq3"
      },
      "outputs": [],
      "source": [
        "# Narrowing age variables to be represented by lowest age in bracket\n",
        "\n",
        "df['Age_Category'].replace({'18-24': '18'}, inplace = True)\n",
        "df['Age_Category'].replace({'25-29': '25'}, inplace = True)\n",
        "df['Age_Category'].replace({'30-34': '30'}, inplace = True)\n",
        "df['Age_Category'].replace({'35-39': '35'}, inplace = True)\n",
        "df['Age_Category'].replace({'40-44': '40'}, inplace = True)\n",
        "df['Age_Category'].replace({'45-49': '45'}, inplace = True)\n",
        "df['Age_Category'].replace({'50-54': '50'}, inplace = True)\n",
        "df['Age_Category'].replace({'55-59': '55'}, inplace = True)\n",
        "df['Age_Category'].replace({'60-64': '60'}, inplace = True)\n",
        "df['Age_Category'].replace({'65-69': '65'}, inplace = True)\n",
        "df['Age_Category'].replace({'70-74': '70'}, inplace = True)\n",
        "df['Age_Category'].replace({'75-79': '75'}, inplace = True)\n",
        "df['Age_Category'].replace({'80+': '80'}, inplace = True)"
      ]
    },
    {
      "cell_type": "code",
      "execution_count": 15,
      "metadata": {
        "id": "1pOCN4VocSkP"
      },
      "outputs": [],
      "source": [
        "# Changing Age_Category variable to be of type int\n",
        "\n",
        "df['Age_Category'] = df['Age_Category'].astype(int)"
      ]
    },
    {
      "cell_type": "code",
      "execution_count": 16,
      "metadata": {},
      "outputs": [
        {
          "data": {
            "text/plain": [
              "General_Health                  float64\n",
              "Checkup                         float64\n",
              "Exercise                        float64\n",
              "Heart_Disease                   float64\n",
              "Skin_Cancer                     float64\n",
              "Other_Cancer                    float64\n",
              "Depression                      float64\n",
              "Diabetes                        float64\n",
              "Arthritis                       float64\n",
              "Sex                             float64\n",
              "Age_Category                      int32\n",
              "Height                          float64\n",
              "Weight                          float64\n",
              "BMI                             float64\n",
              "Smoking_History                 float64\n",
              "Alcohol_Consumption             float64\n",
              "Fruit_Consumption               float64\n",
              "Green_Vegetables_Consumption    float64\n",
              "FriedPotato_Consumption         float64\n",
              "dtype: object"
            ]
          },
          "execution_count": 16,
          "metadata": {},
          "output_type": "execute_result"
        }
      ],
      "source": [
        "# Confirming variables are all the desired data type\n",
        "\n",
        "df.dtypes"
      ]
    },
    {
      "cell_type": "code",
      "execution_count": null,
      "metadata": {},
      "outputs": [],
      "source": [
        "# Once all variables have been encoded and converted to the necessary type, it is time to build the models."
      ]
    },
    {
      "cell_type": "markdown",
      "metadata": {
        "id": "jVRom23Yfaye"
      },
      "source": [
        "# Build Model"
      ]
    },
    {
      "cell_type": "markdown",
      "metadata": {},
      "source": [
        "## Define X and y"
      ]
    },
    {
      "cell_type": "code",
      "execution_count": 17,
      "metadata": {
        "id": "LM0vWnX9l4Pl"
      },
      "outputs": [],
      "source": [
        "# Defining the target variable as y\n",
        "# Defining feature variables as X\n",
        "\n",
        "y = df['Heart_Disease']\n",
        "X = df.drop(['Heart_Disease'], axis = 1)"
      ]
    },
    {
      "cell_type": "markdown",
      "metadata": {},
      "source": [
        "## Oversampling"
      ]
    },
    {
      "cell_type": "code",
      "execution_count": 30,
      "metadata": {},
      "outputs": [],
      "source": [
        "# This dataset is imbalanced and will make identifying instances of heart disease more difficult. To combat this, oversampling techniques are utilized. Oversampling is used to increase the amount of cases where the target variable is 1.\n",
        "#The oversampling technique used is Synthetic Minority Over-sampling Technique (SMOTE), which creates synthetic samples for the minority class using interpolation.\n",
        "\n",
        "from imblearn.over_sampling import SMOTE"
      ]
    },
    {
      "cell_type": "code",
      "execution_count": 18,
      "metadata": {
        "colab": {
          "base_uri": "https://localhost:8080/"
        },
        "id": "zzFiQcMamK38",
        "outputId": "4c15074b-6256-4b42-e6dc-20e91b9c5ac6"
      },
      "outputs": [
        {
          "data": {
            "text/plain": [
              "0.0    283803\n",
              "1.0    283803\n",
              "Name: Heart_Disease, dtype: int64"
            ]
          },
          "execution_count": 18,
          "metadata": {},
          "output_type": "execute_result"
        }
      ],
      "source": [
        "# Oversampling the dataset\n",
        "\n",
        "sm=SMOTE(sampling_strategy = 'minority', random_state = 42)\n",
        "X,y=sm.fit_resample(X,y)\n",
        "y.value_counts()"
      ]
    },
    {
      "cell_type": "markdown",
      "metadata": {},
      "source": [
        "## Scale Data"
      ]
    },
    {
      "cell_type": "code",
      "execution_count": 31,
      "metadata": {},
      "outputs": [],
      "source": [
        "#Importing library to scale dataset\n",
        "\n",
        "from sklearn.preprocessing import MinMaxScaler"
      ]
    },
    {
      "cell_type": "code",
      "execution_count": 19,
      "metadata": {},
      "outputs": [
        {
          "data": {
            "text/plain": [
              "(567606, 18)"
            ]
          },
          "execution_count": 19,
          "metadata": {},
          "output_type": "execute_result"
        }
      ],
      "source": [
        "# Scaling the dataset\n",
        "\n",
        "scale = MinMaxScaler()\n",
        "X_scaled = scale.fit_transform(X)\n",
        "X.shape"
      ]
    },
    {
      "cell_type": "markdown",
      "metadata": {
        "id": "wmgWex2smlpU"
      },
      "source": [
        "## Split into train and test set"
      ]
    },
    {
      "cell_type": "code",
      "execution_count": 32,
      "metadata": {},
      "outputs": [],
      "source": [
        "# Importing library to split original dataset into training and testing datasets\n",
        "\n",
        "from sklearn.model_selection import train_test_split"
      ]
    },
    {
      "cell_type": "code",
      "execution_count": 20,
      "metadata": {
        "id": "DT5_WYkQmfkM"
      },
      "outputs": [],
      "source": [
        "# Splitting the original dataset into training and testing datasets\n",
        "\n",
        "X_train,X_test,y_train,y_test = train_test_split(X_scaled, y, test_size=0.2, stratify=y, random_state=42)"
      ]
    },
    {
      "cell_type": "code",
      "execution_count": 33,
      "metadata": {},
      "outputs": [],
      "source": [
        "# Once all preprocessing is complete and the data is split into a training and test set, it is time to build and train the models. \n",
        "# The first model will be Logistic Regression, followed by Random Forest and SVM:C models."
      ]
    },
    {
      "cell_type": "markdown",
      "metadata": {
        "id": "gtSx2-DRpI_E"
      },
      "source": [
        "## Logistic Regression"
      ]
    },
    {
      "cell_type": "code",
      "execution_count": 34,
      "metadata": {},
      "outputs": [],
      "source": [
        "# Importing the LogisticRegression library\n",
        "\n",
        "from sklearn.linear_model import LogisticRegression"
      ]
    },
    {
      "cell_type": "code",
      "execution_count": 40,
      "metadata": {
        "colab": {
          "base_uri": "https://localhost:8080/",
          "height": 75
        },
        "id": "2-NALQ_kpKwL",
        "outputId": "bf8bb405-9fd1-4561-86eb-2a3035470ce3"
      },
      "outputs": [
        {
          "data": {
            "text/plain": [
              "LogisticRegression(max_iter=10000, random_state=42)"
            ]
          },
          "execution_count": 40,
          "metadata": {},
          "output_type": "execute_result"
        }
      ],
      "source": [
        "# Building/Training the initial Logistic Regression Model \n",
        "\n",
        "lr = LogisticRegression(random_state = 42, max_iter = 10000)\n",
        "lr.fit(X_train, y_train)"
      ]
    },
    {
      "cell_type": "code",
      "execution_count": 35,
      "metadata": {
        "id": "9mVDHN0ypsLB"
      },
      "outputs": [],
      "source": [
        "# Importing libraries for evaluating model performance\n",
        "\n",
        "import sklearn.metrics as metrics\n",
        "from sklearn.metrics import confusion_matrix\n",
        "from sklearn.metrics import accuracy_score\n",
        "from sklearn.metrics import classification_report\n",
        "from sklearn.metrics import f1_score\n",
        "from sklearn.metrics import precision_score\n",
        "from sklearn.metrics import roc_auc_score"
      ]
    },
    {
      "cell_type": "code",
      "execution_count": 88,
      "metadata": {
        "colab": {
          "base_uri": "https://localhost:8080/",
          "height": 688
        },
        "id": "nwvzHT_cqKvO",
        "outputId": "d5eca0d4-349e-4209-8e3a-2aa1e1c92a79"
      },
      "outputs": [
        {
          "name": "stdout",
          "output_type": "stream",
          "text": [
            "Test Accuracy Logistic Regression : 77.46075650534698\n",
            "Train Accuracy Logistic Regression : 77.31366883660293\n",
            "Classification Report :\n",
            "               precision    recall  f1-score   support\n",
            "\n",
            "         0.0       0.79      0.74      0.77     56761\n",
            "         1.0       0.76      0.81      0.78     56761\n",
            "\n",
            "    accuracy                           0.77    113522\n",
            "   macro avg       0.78      0.77      0.77    113522\n",
            "weighted avg       0.78      0.77      0.77    113522\n",
            "\n",
            "Testing Accuracy for Logistic Regression: 77.46075650534698\n",
            "Testing Sensitivity for Logistic Regression: 80.77729426895228\n"
          ]
        },
        {
          "data": {
            "image/png": "[encoded data removed]",
            "text/plain": [
              "<Figure size 432x288 with 2 Axes>"
            ]
          },
          "metadata": {
            "needs_background": "light"
          },
          "output_type": "display_data"
        }
      ],
      "source": [
        "# Evaluating performance of the initial trained model by predicting the target variable and creating the confusion matrix\n",
        "\n",
        "predictions = lr.predict(X_test)\n",
        "print(\"Test Accuracy Logistic Regression :\",accuracy_score(y_test, predictions)*100)\n",
        "\n",
        "train_predictions = lr.predict(X_train)\n",
        "print(\"Train Accuracy Logistic Regression :\",accuracy_score(y_train, train_predictions)*100)\n",
        "\n",
        "print(\"Classification Report :\\n\",classification_report(y_test, predictions))\n",
        "\n",
        "# Making the Confusion Matrix\n",
        "cm = confusion_matrix(y_test, predictions)\n",
        "\n",
        "sns.heatmap(cm, annot = True, cmap = 'winter', linewidths = 0.3,\n",
        "            linecolor = 'black', annot_kws = {\"size\":20}, fmt = 'g')\n",
        "plt.xlabel('Predicted')\n",
        "plt.ylabel('Actual')\n",
        "\n",
        "TN = cm[0][0]   # Data that was predicted to be class 0 and is actually class 0\n",
        "TP = cm[1][1]   # Data that was predicted to be class 1 and is actually class 1\n",
        "FN = cm[1][0]   # Data that was predicted to be class 0 but is actually class 1\n",
        "FP = cm[0][1]   # Data that was predicted to be class 1 but is actually class 0\n",
        "\n",
        "print('Testing Accuracy for Logistic Regression:', (TP + TN)/ (TP + TN + FN + FP)*100)\n",
        "print('Testing Sensitivity for Logistic Regression:', (TP)/(TP + FN)*100)"
      ]
    },
    {
      "cell_type": "code",
      "execution_count": 43,
      "metadata": {
        "colab": {
          "base_uri": "https://localhost:8080/",
          "height": 490
        },
        "id": "xM7vnYp8qk9s",
        "outputId": "d8b1e720-9772-4f2c-cf4c-8d59bb3e7ab6"
      },
      "outputs": [
        {
          "name": "stdout",
          "output_type": "stream",
          "text": [
            "Logistic Regression ROC AUC Score : 77.46075650534698\n"
          ]
        },
        {
          "data": {
            "image/png": "[encoded data removed]",
            "text/plain": [
              "<Figure size 432x288 with 1 Axes>"
            ]
          },
          "metadata": {
            "needs_background": "light"
          },
          "output_type": "display_data"
        }
      ],
      "source": [
        "# Calculating the ROC AUC Score and creating the ROC Curve\n",
        "\n",
        "fpr, tpr, threshold = metrics.roc_curve(y_test, predictions)\n",
        "roc_auc = metrics.auc(fpr, tpr)\n",
        "print(\"Logistic Regression ROC AUC Score :\",roc_auc * 100)\n",
        "\n",
        "plt.title('Receiver Operating Characteristic')\n",
        "plt.plot(fpr, tpr, 'b', label = 'AUC = %0.2f' % roc_auc)\n",
        "plt.legend(loc = 'lower right')\n",
        "plt.ylabel('True Positive Rate')\n",
        "plt.xlabel('False Positive Rate')\n",
        "plt.show()"
      ]
    },
    {
      "cell_type": "code",
      "execution_count": null,
      "metadata": {},
      "outputs": [],
      "source": [
        "# The initial Logistic Regression model after training has a testing accuracy of 77.46%, a model precision of 0.76 for class 1, and a sensitivity of 80.78%. The ROC AUC score for this model was 77.46. \n",
        "# There were 14,676 false positives (predicted to be 1 while actually 0) and 10,911 false negatives (predicted to be 0 while actually one).\n",
        "\n",
        "# The next step is to conduct a grid search to find the optimum combination of model parameters to maximize the precision of this model."
      ]
    },
    {
      "cell_type": "code",
      "execution_count": 28,
      "metadata": {},
      "outputs": [],
      "source": [
        "# Importing library to conduct grid search\n",
        "\n",
        "from sklearn.model_selection import GridSearchCV"
      ]
    },
    {
      "cell_type": "code",
      "execution_count": 54,
      "metadata": {
        "colab": {
          "base_uri": "https://localhost:8080/"
        },
        "id": "jY_uLrg3PnsR",
        "outputId": "0911f876-5d4a-494b-9c15-715253deaa91"
      },
      "outputs": [
        {
          "name": "stdout",
          "output_type": "stream",
          "text": [
            "Fitting 10 folds for each of 140 candidates, totalling 1400 fits\n",
            "Best Parameters: {'C': 1, 'solver': 'sag', 'tol': 0.1}\n",
            "              precision    recall  f1-score   support\n",
            "\n",
            "         0.0       0.80      0.73      0.76     56761\n",
            "         1.0       0.75      0.82      0.78     56761\n",
            "\n",
            "    accuracy                           0.77    113522\n",
            "   macro avg       0.78      0.77      0.77    113522\n",
            "weighted avg       0.78      0.77      0.77    113522\n",
            "\n"
          ]
        }
      ],
      "source": [
        "# Grid Search to find optimum model parameters\n",
        "\n",
        "param_grid = {\n",
        "    'C': [0.001, 0.01, 0.1, 1, 10, 100, 1000],\n",
        "    'solver': ['lbfgs', 'liblinear', 'newton-cg', 'sag', 'saga'],\n",
        "    'tol': [0.0001, 0.001, 0.01, 0.1]\n",
        "\n",
        "}\n",
        "\n",
        "# Create the GridSearchCV object\n",
        "grid = GridSearchCV(lr, param_grid, scoring = 'precision', n_jobs = -1, cv = 10, verbose = 1)\n",
        "\n",
        "# Fit the grid search to your data\n",
        "grid.fit(X_train, y_train)\n",
        "\n",
        "# Print the best parameters after tuning\n",
        "print(\"Best Parameters:\", grid.best_params_)\n",
        "\n",
        "# Use the best estimator to make predictions\n",
        "grid_predictions = grid.predict(X_test)\n",
        "\n",
        "# Print the classification report\n",
        "print(classification_report(y_test, grid_predictions))\n"
      ]
    },
    {
      "cell_type": "code",
      "execution_count": null,
      "metadata": {},
      "outputs": [],
      "source": [
        "# After completion of the grid search, the optimum parameters for the model were found. \n",
        "# These parameters are then used to created an optimized Logistic Regression model, which is then fitted using the training data."
      ]
    },
    {
      "cell_type": "code",
      "execution_count": 66,
      "metadata": {
        "colab": {
          "base_uri": "https://localhost:8080/",
          "height": 92
        },
        "id": "p-v_q9FddGXD",
        "outputId": "9c7c1ef5-0b8a-4e59-a815-9ed9215c8829"
      },
      "outputs": [
        {
          "data": {
            "text/plain": [
              "LogisticRegression(C=1, max_iter=10000, random_state=42, solver='sag', tol=0.1)"
            ]
          },
          "execution_count": 66,
          "metadata": {},
          "output_type": "execute_result"
        }
      ],
      "source": [
        "# Building and training an optimized Logistic Regression Model using the optimum parameters determined from the grid search\n",
        "\n",
        "lr_best = LogisticRegression(random_state = 42, max_iter = 10000, solver = 'sag', C = 1, tol = 0.1)\n",
        "lr_best.fit(X_train, y_train)"
      ]
    },
    {
      "cell_type": "code",
      "execution_count": 87,
      "metadata": {
        "colab": {
          "base_uri": "https://localhost:8080/",
          "height": 688
        },
        "id": "b57oMBdfdTKD",
        "outputId": "e1d78e46-6e0d-409e-9fd9-fe008730575f"
      },
      "outputs": [
        {
          "name": "stdout",
          "output_type": "stream",
          "text": [
            "Test Accuracy Logistic Regression : 77.48894487412132\n",
            "Train Accuracy Logistic Regression : 77.40307960641644\n",
            "Classification Report :\n",
            "               precision    recall  f1-score   support\n",
            "\n",
            "         0.0       0.80      0.73      0.76     56761\n",
            "         1.0       0.75      0.82      0.78     56761\n",
            "\n",
            "    accuracy                           0.77    113522\n",
            "   macro avg       0.78      0.77      0.77    113522\n",
            "weighted avg       0.78      0.77      0.77    113522\n",
            "\n",
            "Testing Accuracy for Logistic Regression: 77.48894487412132\n",
            "Testing Sensitivity for Logistic Regression: 81.81145504836067\n"
          ]
        },
        {
          "data": {
            "image/png": "[encoded data removed]",
            "text/plain": [
              "<Figure size 432x288 with 2 Axes>"
            ]
          },
          "metadata": {
            "needs_background": "light"
          },
          "output_type": "display_data"
        }
      ],
      "source": [
        "# Evaluating performance of the optimized trained model by predicting the target variable and creating the confusion matrix\n",
        "\n",
        "predictions = lr_best.predict(X_test)\n",
        "print(\"Test Accuracy Logistic Regression :\",accuracy_score(y_test, predictions)*100)\n",
        "\n",
        "train_predictions = lr_best.predict(X_train)\n",
        "print(\"Train Accuracy Logistic Regression :\",accuracy_score(y_train, train_predictions)*100)\n",
        "\n",
        "print(\"Classification Report :\\n\",classification_report(y_test, predictions))\n",
        "\n",
        "# Making the Confusion Matrix\n",
        "cm = confusion_matrix(y_test, predictions)\n",
        "\n",
        "sns.heatmap(cm, annot = True, cmap = 'winter', linewidths = 0.3,\n",
        "            linecolor = 'black', annot_kws = {\"size\":20}, fmt = 'g')\n",
        "plt.xlabel('Predicted')\n",
        "plt.ylabel('Actual')\n",
        "\n",
        "TN = cm[0][0]   # Data that was predicted to be class 0 and is actually class 0\n",
        "TP = cm[1][1]   # Data that was predicted to be class 1 and is actually class 1\n",
        "FN = cm[1][0]   # Data that was predicted to be class 0 but is actually class 1\n",
        "FP = cm[0][1]   # Data that was predicted to be class 1 but is actually class 0\n",
        "\n",
        "print('Testing Accuracy for Logistic Regression:', (TP + TN)/ (TP + TN + FN + FP)*100)\n",
        "print('Testing Sensitivity for Logistic Regression:', (TP)/(TP + FN)*100)\n"
      ]
    },
    {
      "cell_type": "code",
      "execution_count": 71,
      "metadata": {
        "colab": {
          "base_uri": "https://localhost:8080/",
          "height": 490
        },
        "id": "C6DcemXYdXpa",
        "outputId": "02e1d57b-5702-40a7-9e00-84a7e22d4e3d"
      },
      "outputs": [
        {
          "name": "stdout",
          "output_type": "stream",
          "text": [
            "Logistic Regression ROC AUC Score : 77.48894487412132\n"
          ]
        },
        {
          "data": {
            "image/png": "[encoded data removed]",
            "text/plain": [
              "<Figure size 432x288 with 1 Axes>"
            ]
          },
          "metadata": {
            "needs_background": "light"
          },
          "output_type": "display_data"
        }
      ],
      "source": [
        "# Calculating the ROC AUC Score and creating the ROC Curve\n",
        " \n",
        "fpr, tpr, threshold = metrics.roc_curve(y_test, predictions)\n",
        "roc_auc = metrics.auc(fpr, tpr)\n",
        "print(\"Logistic Regression ROC AUC Score :\",roc_auc * 100)\n",
        "\n",
        "plt.title('Receiver Operating Characteristic')\n",
        "plt.plot(fpr, tpr, 'b', label = 'AUC = %0.2f' % roc_auc)\n",
        "plt.legend(loc = 'lower right')\n",
        "plt.ylabel('True Positive Rate')\n",
        "plt.xlabel('False Positive Rate')\n",
        "plt.show()"
      ]
    },
    {
      "cell_type": "code",
      "execution_count": null,
      "metadata": {},
      "outputs": [],
      "source": [
        "# The optimized Logistic Regression model after training has a testing accuracy of 77.49% (0.03% increase), a model precision of 0.75 for class 1 (0.01 decrease), and a sensitivity of 81.81% (0.03% increase). The ROC AUC score for this model was 77.49 (0.03 increase). \n",
        "# There were 15,231 false positives (555 increase) and 10,324 false negatives (587 decrease).\n",
        "\n",
        "# Although the precision dropped slightly, the overall performance of the optimized Logistic Regression model is slightly better than that of the original model.\n",
        "\n",
        "# The next step is to build and train and initial Random Forest Model and fit using the training data."
      ]
    },
    {
      "cell_type": "markdown",
      "metadata": {
        "id": "wP-sf8szUV7X"
      },
      "source": [
        "## Random Forest"
      ]
    },
    {
      "cell_type": "code",
      "execution_count": null,
      "metadata": {},
      "outputs": [],
      "source": [
        "# Importing the RandomForestClassifier library\n",
        "\n",
        "from sklearn.ensemble import RandomForestClassifier"
      ]
    },
    {
      "cell_type": "code",
      "execution_count": 21,
      "metadata": {
        "colab": {
          "base_uri": "https://localhost:8080/",
          "height": 75
        },
        "id": "TpS8NfydaMvt",
        "outputId": "f2af77ec-c976-43e5-8a14-395ddc1aa6b3"
      },
      "outputs": [
        {
          "data": {
            "text/plain": [
              "RandomForestClassifier(random_state=42)"
            ]
          },
          "execution_count": 21,
          "metadata": {},
          "output_type": "execute_result"
        }
      ],
      "source": [
        "# Building/Training the initial Random Forest Classifier Model\n",
        "\n",
        "rf = RandomForestClassifier(random_state = 42)\n",
        "rf.fit(X_train, y_train)"
      ]
    },
    {
      "cell_type": "code",
      "execution_count": 24,
      "metadata": {
        "colab": {
          "base_uri": "https://localhost:8080/",
          "height": 688
        },
        "id": "_2kuZcozbJ8C",
        "outputId": "907dc289-f9a3-429a-ba00-edb74c9c8a1a"
      },
      "outputs": [
        {
          "name": "stdout",
          "output_type": "stream",
          "text": [
            "Test Accuracy Random Forest : 95.63344549955075\n",
            "Train Accuracy Random Forest : 99.99691687000643\n",
            "Classification Report :\n",
            "               precision    recall  f1-score   support\n",
            "\n",
            "         0.0       0.93      0.99      0.96     56761\n",
            "         1.0       0.99      0.92      0.95     56761\n",
            "\n",
            "    accuracy                           0.96    113522\n",
            "   macro avg       0.96      0.96      0.96    113522\n",
            "weighted avg       0.96      0.96      0.96    113522\n",
            "\n",
            "Testing Accuracy for Random Forest: 95.63344549955075\n",
            "Testing Sensitivity for Random Forest: 91.95926780712108\n"
          ]
        },
        {
          "data": {
            "image/png": "[encoded data removed]",
            "text/plain": [
              "<Figure size 432x288 with 2 Axes>"
            ]
          },
          "metadata": {
            "needs_background": "light"
          },
          "output_type": "display_data"
        }
      ],
      "source": [
        "# Evaluating performance of the initial trained model by predicting the target variable and creating the confusion matrix\n",
        "\n",
        "predictions = rf.predict(X_test)\n",
        "print(\"Test Accuracy Random Forest :\",accuracy_score(y_test, predictions)*100)\n",
        "\n",
        "train_predictions =rf.predict(X_train)\n",
        "print(\"Train Accuracy Random Forest :\",accuracy_score(y_train, train_predictions)*100)\n",
        "\n",
        "print(\"Classification Report :\\n\",classification_report(y_test, predictions))\n",
        "\n",
        "# Making the Confusion Matrix\n",
        "cm = confusion_matrix(y_test, predictions)\n",
        "\n",
        "sns.heatmap(cm, annot = True, cmap = 'winter', linewidths = 0.3,\n",
        "            linecolor = 'black', annot_kws = {\"size\":20}, fmt = 'g')\n",
        "plt.xlabel('Predicted')\n",
        "plt.ylabel('Actual')\n",
        "\n",
        "TN = cm[0][0]   # Data that was predicted to be class 0 and is actually class 0\n",
        "TP = cm[1][1]   # Data that was predicted to be class 1 and is actually class 1\n",
        "FN = cm[1][0]   # Data that was predicted to be class 0 but is actually class 1\n",
        "FP = cm[0][1]   # Data that was predicted to be class 1 but is actually class 0\n",
        "\n",
        "print('Testing Accuracy for Random Forest:', (TP + TN)/ (TP + TN + FN + FP)*100)\n",
        "print('Testing Sensitivity for Random Forest:', (TP)/(TP + FN)*100)\n"
      ]
    },
    {
      "cell_type": "code",
      "execution_count": 27,
      "metadata": {
        "colab": {
          "base_uri": "https://localhost:8080/",
          "height": 490
        },
        "id": "nWhWuZFsbcXr",
        "outputId": "fe87b6c0-a428-4467-d6df-c575e88f9d0e"
      },
      "outputs": [
        {
          "name": "stdout",
          "output_type": "stream",
          "text": [
            "Random Forest ROC AUC Score : 95.63344549955075\n"
          ]
        },
        {
          "data": {
            "image/png": "[encoded data removed]",
            "text/plain": [
              "<Figure size 432x288 with 1 Axes>"
            ]
          },
          "metadata": {
            "needs_background": "light"
          },
          "output_type": "display_data"
        }
      ],
      "source": [
        "# Calculating the ROC AUC Score and creating the ROC Curve\n",
        "\n",
        "fpr, tpr, threshold = metrics.roc_curve(y_test, predictions)\n",
        "roc_auc = metrics.auc(fpr, tpr)\n",
        "print(\"Random Forest ROC AUC Score :\",roc_auc*100)\n",
        "\n",
        "plt.title('Receiver Operating Characteristic')\n",
        "plt.plot(fpr, tpr, 'b', label = 'AUC = %0.2f' % roc_auc)\n",
        "plt.legend(loc = 'lower right')\n",
        "plt.ylabel('True Positive Rate')\n",
        "plt.xlabel('False Positive Rate')\n",
        "plt.show()"
      ]
    },
    {
      "cell_type": "code",
      "execution_count": null,
      "metadata": {},
      "outputs": [],
      "source": [
        "# The initial Random Forest model after training has a testing accuracy of 95.63% , a model precision of 0.99 for class 1, and a sensitivity of 91.96%. The ROC AUC score for this model is 95.63. \n",
        "# There were 393 false positives  and 4,564 false negatives.\n",
        "\n",
        "# The initial Random Forest Model outperforms the previous Logistic Regression Models in terms of accuracy, precision, and sensitivity. The ROC score for the optimized Random Forest Model is 18.17 higher than the initial Logistic Regression model and 18.14 higher than the optimized Logist Regression Model.\n",
        "\n",
        "# The next step is to conduct a grid search to find the optimum combination of model parameters to maximize the precision of this model."
      ]
    },
    {
      "cell_type": "code",
      "execution_count": 36,
      "metadata": {},
      "outputs": [
        {
          "name": "stdout",
          "output_type": "stream",
          "text": [
            "Fitting 5 folds for each of 24 candidates, totalling 120 fits\n",
            "Best Parameters: {'bootstrap': 'True', 'ccp_alpha': 0, 'max_features': 'auto'}\n",
            "              precision    recall  f1-score   support\n",
            "\n",
            "         0.0       0.93      0.99      0.96     56761\n",
            "         1.0       0.99      0.92      0.95     56761\n",
            "\n",
            "    accuracy                           0.96    113522\n",
            "   macro avg       0.96      0.96      0.96    113522\n",
            "weighted avg       0.96      0.96      0.96    113522\n",
            "\n"
          ]
        }
      ],
      "source": [
        "# Grid Search to find optimum model parameters\n",
        "\n",
        "param_grid = {\n",
        "    'bootstrap': ['True', 'False'],\n",
        "    'ccp_alpha': [0, 1, 10, 100],\n",
        "    'max_features': ['auto', 'sqrt', 'log2'], \n",
        "}\n",
        "\n",
        "# Create the GridSearchCV object\n",
        "grid = GridSearchCV(rf, param_grid, scoring = 'precision', n_jobs = -1, verbose = 1)\n",
        "\n",
        "# Fit the grid search to your data\n",
        "grid.fit(X_train, y_train)\n",
        "\n",
        "# Print the best parameters after tuning\n",
        "print(\"Best Parameters:\", grid.best_params_)\n",
        "\n",
        "# Use the best estimator to make predictions\n",
        "grid_predictions = grid.predict(X_test)\n",
        "\n",
        "# Print the classification report\n",
        "print(classification_report(y_test, grid_predictions))\n"
      ]
    },
    {
      "cell_type": "code",
      "execution_count": null,
      "metadata": {},
      "outputs": [],
      "source": [
        "# After completion of the grid search, the optimum parameters for the model were found. \n",
        "# These parameters are then used to created an optimized Random Forest model, which is then fit using the training data."
      ]
    },
    {
      "cell_type": "code",
      "execution_count": 37,
      "metadata": {},
      "outputs": [
        {
          "data": {
            "text/plain": [
              "RandomForestClassifier(ccp_alpha=0, random_state=42)"
            ]
          },
          "execution_count": 37,
          "metadata": {},
          "output_type": "execute_result"
        }
      ],
      "source": [
        "# Building and training an optimized Random Forest Model using the optimum parameters determined from the grid search\n",
        "\n",
        "rf_best = RandomForestClassifier(random_state = 42, bootstrap = True, ccp_alpha = 0, max_features = 'auto')\n",
        "rf_best.fit(X_train, y_train)"
      ]
    },
    {
      "cell_type": "code",
      "execution_count": 38,
      "metadata": {},
      "outputs": [
        {
          "name": "stdout",
          "output_type": "stream",
          "text": [
            "Test Accuracy Random Forest : 95.63344549955075\n",
            "Train Accuracy Random Forest : 99.99691687000643\n",
            "Classification Report :\n",
            "               precision    recall  f1-score   support\n",
            "\n",
            "         0.0       0.93      0.99      0.96     56761\n",
            "         1.0       0.99      0.92      0.95     56761\n",
            "\n",
            "    accuracy                           0.96    113522\n",
            "   macro avg       0.96      0.96      0.96    113522\n",
            "weighted avg       0.96      0.96      0.96    113522\n",
            "\n",
            "Testing Accuracy for Random Forest: 95.63344549955075\n",
            "Testing Sensitivity for Random Forest: 91.95926780712108\n"
          ]
        },
        {
          "data": {
            "image/png": "[encoded data removed]",
            "text/plain": [
              "<Figure size 432x288 with 2 Axes>"
            ]
          },
          "metadata": {
            "needs_background": "light"
          },
          "output_type": "display_data"
        }
      ],
      "source": [
        "# Evaluating performance of the optimized trained model by predicting the target variable and creating the confusion matrix \n",
        "\n",
        "predictions = rf_best.predict(X_test)\n",
        "print(\"Test Accuracy Random Forest :\",accuracy_score(y_test, predictions)*100)\n",
        "\n",
        "train_predictions =rf_best.predict(X_train)\n",
        "print(\"Train Accuracy Random Forest :\",accuracy_score(y_train,train_predictions)*100)\n",
        "\n",
        "print(\"Classification Report :\\n\",classification_report(y_test,predictions))\n",
        "\n",
        "# Making the Confusion Matrix\n",
        "cm = confusion_matrix(y_test, predictions)\n",
        "\n",
        "sns.heatmap(cm, annot = True, cmap = 'winter', linewidths = 0.3,\n",
        "            linecolor = 'black', annot_kws = {\"size\":20}, fmt = 'g')\n",
        "plt.xlabel('Predicted')\n",
        "plt.ylabel('Actual')\n",
        "\n",
        "TN = cm[0][0]   # Data that was predicted to be class 0 and is actually class 0\n",
        "TP = cm[1][1]   # Data that was predicted to be class 1 and is actually class 1\n",
        "FN = cm[1][0]   # Data that was predicted to be class 0 but is actually class 1\n",
        "FP = cm[0][1]   # Data that was predicted to be class 1 but is actually class 0\n",
        "\n",
        "print('Testing Accuracy for Random Forest:', (TP + TN)/ (TP + TN + FN + FP)*100)\n",
        "print('Testing Sensitivity for Random Forest:', (TP)/(TP + FN)*100)"
      ]
    },
    {
      "cell_type": "code",
      "execution_count": 39,
      "metadata": {},
      "outputs": [
        {
          "name": "stdout",
          "output_type": "stream",
          "text": [
            "Random Forest ROC AUC Score : 95.63344549955075\n"
          ]
        },
        {
          "data": {
            "image/png": "[encoded data removed]",
            "text/plain": [
              "<Figure size 432x288 with 1 Axes>"
            ]
          },
          "metadata": {
            "needs_background": "light"
          },
          "output_type": "display_data"
        }
      ],
      "source": [
        "# Calculating the ROC AUC Score and creating the ROC Curve\n",
        "\n",
        "fpr, tpr, threshold = metrics.roc_curve(y_test, predictions)\n",
        "roc_auc = metrics.auc(fpr, tpr)\n",
        "print(\"Random Forest ROC AUC Score :\",roc_auc*100)\n",
        "\n",
        "plt.title('Receiver Operating Characteristic')\n",
        "plt.plot(fpr, tpr, 'b', label = 'AUC = %0.2f' % roc_auc)\n",
        "plt.legend(loc = 'lower right')\n",
        "plt.ylabel('True Positive Rate')\n",
        "plt.xlabel('False Positive Rate')\n",
        "plt.show()"
      ]
    },
    {
      "cell_type": "code",
      "execution_count": null,
      "metadata": {},
      "outputs": [],
      "source": [
        "# The new Random Forest model after training has a testing accuracy of 95.63% (no change), a model precision of 0.99 for class 1 (no change), and a sensitivity of 91.96% (no change). The ROC AUC score for this model is 95.63 (no change). \n",
        "# There were 393 false positives and 4,564 false negatives.\n",
        "\n",
        "# There is no change in model performance using the parameters found during the grid search.\n",
        "\n",
        "# The next step is to build an initial SVM:C model and fit using the training data."
      ]
    },
    {
      "cell_type": "markdown",
      "metadata": {
        "id": "4CbUzYwzayD-"
      },
      "source": [
        "## Support Vector Machine: Classifier"
      ]
    },
    {
      "cell_type": "code",
      "execution_count": null,
      "metadata": {},
      "outputs": [],
      "source": [
        "# Importing the SVC library\n",
        "\n",
        "from sklearn.svm import SVC"
      ]
    },
    {
      "cell_type": "code",
      "execution_count": null,
      "metadata": {
        "id": "AfxJ_2XWa1Rr"
      },
      "outputs": [
        {
          "data": {
            "text/plain": [
              "SVC(random_state=42)"
            ]
          },
          "execution_count": 49,
          "metadata": {},
          "output_type": "execute_result"
        }
      ],
      "source": [
        "# Building/Training the initial Support Vector Machine Classifier Model\n",
        "\n",
        "svc = SVC(random_state = 42)\n",
        "svc.fit(X_train, y_train)"
      ]
    },
    {
      "cell_type": "code",
      "execution_count": 83,
      "metadata": {
        "id": "xD8U0ptybQGU"
      },
      "outputs": [
        {
          "name": "stdout",
          "output_type": "stream",
          "text": [
            "Test Accuracy SVM : 91.69324007681331\n",
            "Train Accuracy SVM : 91.76275755146625\n",
            "Classification Report :\n",
            "               precision    recall  f1-score   support\n",
            "\n",
            "         0.0       0.87      0.99      0.92     56761\n",
            "         1.0       0.98      0.85      0.91     56761\n",
            "\n",
            "    accuracy                           0.92    113522\n",
            "   macro avg       0.92      0.92      0.92    113522\n",
            "weighted avg       0.92      0.92      0.92    113522\n",
            "\n",
            "Testing Accuracy for SVM: 0.9169324007681331\n",
            "Testing Sensitivity for SVM: 0.8480646923063371\n"
          ]
        },
        {
          "data": {
            "image/png": "[encoded data removed]",
            "text/plain": [
              "<Figure size 432x288 with 2 Axes>"
            ]
          },
          "metadata": {
            "needs_background": "light"
          },
          "output_type": "display_data"
        }
      ],
      "source": [
        "# Evaluating performance of the initial trained model by predicting the target variable and creating the confusion matrix \n",
        "\n",
        "predictions = svc.predict(X_test)\n",
        "print(\"Test Accuracy SVM :\",accuracy_score(y_test, predictions)*100)\n",
        "\n",
        "train_predictions = svc.predict(X_train)\n",
        "print(\"Train Accuracy SVM :\",accuracy_score(y_train, train_predictions)*100)\n",
        "\n",
        "print(\"Classification Report :\\n\",classification_report(y_test, predictions))\n",
        "\n",
        "# Making the Confusion Matrix\n",
        "cm = confusion_matrix(y_test, predictions)\n",
        "\n",
        "sns.heatmap(cm, annot = True, cmap = 'winter', linewidths = 0.3,\n",
        "            linecolor = 'black', annot_kws = {\"size\":20}, fmt = 'g')\n",
        "plt.xlabel('Predicted')\n",
        "plt.ylabel('Actual')\n",
        "\n",
        "TN = cm[0][0]   # Data that was predicted to be class 0 and is actually class 0\n",
        "TP = cm[1][1]   # Data that was predicted to be class 1 and is actually class 1\n",
        "FN = cm[1][0]   # Data that was predicted to be class 0 but is actually class 1\n",
        "FP = cm[0][1]   # Data that was predicted to be class 1 but is actually class 0\n",
        "\n",
        "print('Testing Accuracy for SVM:', (TP + TN)/ (TP + TN + FN + FP))\n",
        "print('Testing Sensitivity for SVM:', (TP)/(TP + FN))"
      ]
    },
    {
      "cell_type": "code",
      "execution_count": 84,
      "metadata": {},
      "outputs": [
        {
          "name": "stdout",
          "output_type": "stream",
          "text": [
            "SVM:C ROC AUC Score : 91.6932400768133\n"
          ]
        },
        {
          "data": {
            "image/png": "[encoded data removed]",
            "text/plain": [
              "<Figure size 432x288 with 1 Axes>"
            ]
          },
          "metadata": {
            "needs_background": "light"
          },
          "output_type": "display_data"
        }
      ],
      "source": [
        "# Calculating the ROC AUC Score and creating the ROC Curve\n",
        "\n",
        "fpr, tpr, threshold = metrics.roc_curve(y_test, predictions)\n",
        "roc_auc = metrics.auc(fpr, tpr)\n",
        "print(\"SVM:C ROC AUC Score :\",roc_auc*100)\n",
        "\n",
        "plt.title('Receiver Operating Characteristic')\n",
        "plt.plot(fpr, tpr, 'b', label = 'AUC = %0.2f' % roc_auc)\n",
        "plt.legend(loc = 'lower right')\n",
        "plt.ylabel('True Positive Rate')\n",
        "plt.xlabel('False Positive Rate')\n",
        "plt.show()"
      ]
    },
    {
      "cell_type": "code",
      "execution_count": null,
      "metadata": {},
      "outputs": [],
      "source": [
        "# The initial SVM:C model after training has a testing accuracy of 91.69%, a model precision of 0.98 for class 1, and a sensitivity of 84.81%. The ROC AUC score for this model is 91.69. \n",
        "# There were 806 false positives and 8,624 false negatives.\n",
        "\n",
        "# The initial SVM:C model outperforms the previous Logistic Regression models in terms of accuracy, precision, and sensitivity. The ROC score for the SVM:C model is 14.23 higher than the initial and 14.20 higher than the optimized Logist Regression Models.\n",
        "# The initial SVM:C model is slightly outperformed by the previous Random Forest models in terms of accuracy, precision, and sensitivity. The ROC score for the SVM:C model is 3.94 lower than the initial/optimized Random Forest Models.\n",
        "\n",
        "# The next step is to conduct a grid search to find the optimum combination of model parameters to maximize the precision of this model."
      ]
    },
    {
      "cell_type": "code",
      "execution_count": null,
      "metadata": {},
      "outputs": [
        {
          "name": "stdout",
          "output_type": "stream",
          "text": [
            "Fitting 2 folds for each of 9 candidates, totalling 18 fits\n",
            "Best Parameters: {'C': 10, 'kernel': 'rbf'}\n",
            "              precision    recall  f1-score   support\n",
            "\n",
            "         0.0       0.88      0.99      0.93     56761\n",
            "         1.0       0.99      0.86      0.92     56761\n",
            "\n",
            "    accuracy                           0.93    113522\n",
            "   macro avg       0.93      0.93      0.93    113522\n",
            "weighted avg       0.93      0.93      0.93    113522\n",
            "\n"
          ]
        }
      ],
      "source": [
        "# Grid Search to find optimum model parameters\n",
        "\n",
        "param_grid = {\n",
        "    'C': [ 1, 10, 100],\n",
        "    'kernel': ['linear', 'rbf', 'sigmoid'],\n",
        "    \n",
        "        \n",
        "\n",
        "}\n",
        "\n",
        "# Create the GridSearchCV object\n",
        "grid = GridSearchCV(svc, param_grid, scoring = 'precision', n_jobs = -1, verbose = 1, cv = 2)\n",
        "\n",
        "# Fit the grid search to your data\n",
        "grid.fit(X_train, y_train)\n",
        "\n",
        "# Print the best parameters after tuning\n",
        "print(\"Best Parameters:\", grid.best_params_)\n",
        "\n",
        "# Use the best estimator to make predictions\n",
        "grid_predictions = grid.predict(X_test)\n",
        "\n",
        "# Print the classification report\n",
        "print(classification_report(y_test, grid_predictions))"
      ]
    },
    {
      "cell_type": "code",
      "execution_count": null,
      "metadata": {},
      "outputs": [],
      "source": [
        "# After completion of the grid search, the optimum parameters for the model were found. \n",
        "# These parameters are then used to created an optimized SVM:C model, which is then fit using the training data."
      ]
    },
    {
      "cell_type": "code",
      "execution_count": null,
      "metadata": {},
      "outputs": [
        {
          "data": {
            "text/plain": [
              "SVC(C=10, random_state=42)"
            ]
          },
          "execution_count": 64,
          "metadata": {},
          "output_type": "execute_result"
        }
      ],
      "source": [
        "# Building and training an optimized Support Vector Machine Classifier Model using the optimum parameters determined from the grid search\n",
        "\n",
        "svc_best = SVC(random_state = 42, C = 10, kernel = 'rbf')\n",
        "svc_best.fit(X_train, y_train)"
      ]
    },
    {
      "cell_type": "code",
      "execution_count": 89,
      "metadata": {},
      "outputs": [
        {
          "name": "stdout",
          "output_type": "stream",
          "text": [
            "Test Accuracy SVM : 92.73532883493948\n",
            "Train Accuracy SVM : 92.7878982743281\n",
            "Classification Report :\n",
            "               precision    recall  f1-score   support\n",
            "\n",
            "         0.0       0.88      0.99      0.93     56761\n",
            "         1.0       0.99      0.86      0.92     56761\n",
            "\n",
            "    accuracy                           0.93    113522\n",
            "   macro avg       0.93      0.93      0.93    113522\n",
            "weighted avg       0.93      0.93      0.93    113522\n",
            "\n",
            "Testing Accuracy for SVM: 0.9273532883493948\n",
            "Testing Sensitivity for SVM: 0.8645372703088389\n"
          ]
        },
        {
          "data": {
            "image/png": "[encoded data removed]",
            "text/plain": [
              "<Figure size 432x288 with 2 Axes>"
            ]
          },
          "metadata": {
            "needs_background": "light"
          },
          "output_type": "display_data"
        }
      ],
      "source": [
        "# Evaluating performance of the optimized trained model by predicting the target variable and creating the confusion matrix \n",
        "\n",
        "predictions = svc_best.predict(X_test)\n",
        "print(\"Test Accuracy SVM :\",accuracy_score(y_test, predictions)*100)\n",
        "\n",
        "train_predictions = svc_best.predict(X_train)\n",
        "print(\"Train Accuracy SVM :\",accuracy_score(y_train, train_predictions)*100)\n",
        "\n",
        "print(\"Classification Report :\\n\",classification_report(y_test, predictions))\n",
        "\n",
        "# Making the Confusion Matrix\n",
        "cm = confusion_matrix(y_test, predictions)\n",
        "\n",
        "sns.heatmap(cm, annot = True, cmap = 'winter', linewidths = 0.3,\n",
        "            linecolor = 'black', annot_kws = {\"size\":20}, fmt = 'g')\n",
        "plt.xlabel('Predicted')\n",
        "plt.ylabel('Actual')\n",
        "\n",
        "TN = cm[0][0]   # Data that was predicted to be class 0 and is actually class 0\n",
        "TP = cm[1][1]   # Data that was predicted to be class 1 and is actually class 1\n",
        "FN = cm[1][0]   # Data that was predicted to be class 0 but is actually class 1\n",
        "FP = cm[0][1]   # Data that was predicted to be class 1 but is actually class 0\n",
        "\n",
        "print('Testing Accuracy for SVM:', (TP + TN)/ (TP + TN + FN + FP))\n",
        "print('Testing Sensitivity for SVM:', (TP)/(TP + FN))"
      ]
    },
    {
      "cell_type": "code",
      "execution_count": 90,
      "metadata": {},
      "outputs": [
        {
          "name": "stdout",
          "output_type": "stream",
          "text": [
            "SVM:C ROC AUC Score : 92.73532883493948\n"
          ]
        },
        {
          "data": {
            "image/png": "[encoded data removed]",
            "text/plain": [
              "<Figure size 432x288 with 1 Axes>"
            ]
          },
          "metadata": {
            "needs_background": "light"
          },
          "output_type": "display_data"
        }
      ],
      "source": [
        "# Calculating the ROC AUC Score and creating the ROC Curve\n",
        "\n",
        "fpr, tpr, threshold = metrics.roc_curve(y_test, predictions)\n",
        "roc_auc = metrics.auc(fpr, tpr)\n",
        "print(\"SVM:C ROC AUC Score :\",roc_auc*100)\n",
        "\n",
        "plt.title('Receiver Operating Characteristic')\n",
        "plt.plot(fpr, tpr, 'b', label = 'AUC = %0.2f' % roc_auc)\n",
        "plt.legend(loc = 'lower right')\n",
        "plt.ylabel('True Positive Rate')\n",
        "plt.xlabel('False Positive Rate')\n",
        "plt.show()"
      ]
    },
    {
      "cell_type": "code",
      "execution_count": null,
      "metadata": {},
      "outputs": [],
      "source": [
        "# The optimized SVM:C model after training has a testing accuracy of 92.74% (1.05% increase), a model precision of 0.99 for class 1 (0.01 increase), and a sensitivity of 86.45% (1.64% increase). The ROC AUC score for this model is 92.74 (1.05 increase). \n",
        "# There were 558 false positives (248 decrease) and 7,689 false negatives (935 decrease).\n",
        "\n",
        "# The optimized SVM:C model outperforms the previous Logistic Regression models in terms of accuracy, precision, and sensitivity. The ROC score for the optimized SVM:C model is 15.28 higher than the initial model and 15.25 higher than the optimized Logistic Regression Models.\n",
        "# The optimized SVM:C model is outperformed by the previous Random Forest models in terms of accuracy and sensitivity. The ROC score for the SVM:C model is 2.89 lower than the initial/optimized Random Forest Models.\n",
        "\n",
        "# The optimized model, built with the parameters obtained from the grid search, has a slightly better performance than the initial model.\n",
        "\n",
        "# The next step is to use the original dataset before oversampling to determine the performance of the models on the original dataset."
      ]
    },
    {
      "cell_type": "markdown",
      "metadata": {},
      "source": [
        "## Modeling Outcome"
      ]
    },
    {
      "cell_type": "code",
      "execution_count": null,
      "metadata": {},
      "outputs": [],
      "source": [
        "# Of the models built and tested, the model with the highest performance overall was the Random Forest Model, Followed by the optimized SVM:C Models. The Logistic Regression models had the worst performance, which was expected due to the complexity of the other models."
      ]
    },
    {
      "cell_type": "markdown",
      "metadata": {},
      "source": [
        "# Model Evaluation: Original Dataset"
      ]
    },
    {
      "cell_type": "code",
      "execution_count": 132,
      "metadata": {},
      "outputs": [],
      "source": [
        "# Redefine X and y\n",
        "\n",
        "eval_y = df['Heart_Disease']\n",
        "eval_X = df.drop(['Heart_Disease'], axis = 1)"
      ]
    },
    {
      "cell_type": "code",
      "execution_count": 133,
      "metadata": {},
      "outputs": [
        {
          "name": "stdout",
          "output_type": "stream",
          "text": [
            "(308774, 18)\n",
            "(308774,)\n"
          ]
        }
      ],
      "source": [
        "# Rescale the data\n",
        "\n",
        "eval_scale = MinMaxScaler()\n",
        "eval_X_scaled = scale.fit_transform(eval_X)\n",
        "print(eval_X_scaled.shape)\n",
        "print(eval_y.shape)"
      ]
    },
    {
      "cell_type": "markdown",
      "metadata": {},
      "source": [
        "## Logistic Regression Evaluation"
      ]
    },
    {
      "cell_type": "markdown",
      "metadata": {},
      "source": [
        "### Initial Logistic Regression Model"
      ]
    },
    {
      "cell_type": "code",
      "execution_count": 134,
      "metadata": {},
      "outputs": [
        {
          "name": "stdout",
          "output_type": "stream",
          "text": [
            "Test Accuracy Logistic Regression : 74.3563253382733\n",
            "Classification Report :\n",
            "               precision    recall  f1-score   support\n",
            "\n",
            "         0.0       0.97      0.74      0.84    283803\n",
            "         1.0       0.21      0.78      0.33     24971\n",
            "\n",
            "    accuracy                           0.74    308774\n",
            "   macro avg       0.59      0.76      0.59    308774\n",
            "weighted avg       0.91      0.74      0.80    308774\n",
            "\n",
            "Testing Accuracy for Logistic Regression: 74.3563253382733\n",
            "Testing Sensitivity for Logistic Regression: 77.87433422770414\n"
          ]
        },
        {
          "data": {
            "image/png": "[encoded data removed]",
            "text/plain": [
              "<Figure size 432x288 with 2 Axes>"
            ]
          },
          "metadata": {
            "needs_background": "light"
          },
          "output_type": "display_data"
        }
      ],
      "source": [
        "# Evaluating performance of the initial trained LR model on the original dataset by predicting the target variable and creating the confusion matrix \n",
        "\n",
        "predictions = lr.predict(eval_X_scaled)\n",
        "print(\"Test Accuracy Logistic Regression :\",accuracy_score(eval_y, predictions)*100)\n",
        "\n",
        "print(\"Classification Report :\\n\",classification_report(eval_y, predictions))\n",
        "\n",
        "# Making the Confusion Matrix\n",
        "cm = confusion_matrix(eval_y, predictions)\n",
        "\n",
        "sns.heatmap(cm, annot = True, cmap = 'winter', linewidths = 0.3,\n",
        "            linecolor = 'black', annot_kws = {\"size\":20}, fmt = 'g')\n",
        "plt.xlabel('Predicted')\n",
        "plt.ylabel('Actual')\n",
        "\n",
        "TN = cm[0][0]   # Data that was predicted to be class 0 and is actually class 0\n",
        "TP = cm[1][1]   # Data that was predicted to be class 1 and is actually class 1\n",
        "FN = cm[1][0]   # Data that was predicted to be class 0 but is actually class 1\n",
        "FP = cm[0][1]   # Data that was predicted to be class 1 but is actually class 0\n",
        "\n",
        "print('Testing Accuracy for Logistic Regression:', (TP + TN)/ (TP + TN + FN + FP)*100)\n",
        "print('Testing Sensitivity for Logistic Regression:', (TP)/(TP + FN)*100)"
      ]
    },
    {
      "cell_type": "code",
      "execution_count": 136,
      "metadata": {},
      "outputs": [
        {
          "name": "stdout",
          "output_type": "stream",
          "text": [
            "Logistic Regression ROC AUC Score : 75.9605601012412\n"
          ]
        },
        {
          "data": {
            "image/png": "[encoded data removed]",
            "text/plain": [
              "<Figure size 432x288 with 1 Axes>"
            ]
          },
          "metadata": {
            "needs_background": "light"
          },
          "output_type": "display_data"
        }
      ],
      "source": [
        "# Calculating the ROC AUC Score and creating the ROC Curve\n",
        "\n",
        "fpr, tpr, threshold = metrics.roc_curve(eval_y, predictions)\n",
        "roc_auc = metrics.auc(fpr, tpr)\n",
        "print(\"Logistic Regression ROC AUC Score :\",roc_auc * 100)\n",
        "\n",
        "plt.title('Receiver Operating Characteristic')\n",
        "plt.plot(fpr, tpr, 'b', label = 'AUC = %0.2f' % roc_auc)\n",
        "plt.legend(loc = 'lower right')\n",
        "plt.ylabel('True Positive Rate')\n",
        "plt.xlabel('False Positive Rate')\n",
        "plt.show()"
      ]
    },
    {
      "cell_type": "code",
      "execution_count": null,
      "metadata": {},
      "outputs": [],
      "source": [
        "# The initial Logistic Regression model has a testing accuracy of 74.36%, a model precision of 0.21 for class 1, and a sensitivity of 77.87%. The ROC AUC score for this model was 75.96. \n",
        "# There were 73,656 false positives (predicted to be 1 while actually 0) and 5,525 false negatives (predicted to be 0 while actually one).\n",
        "\n",
        "# The Logistic Regression Model struggles with a high amount of false positives, which could potentially be remedied by increasing the threshold for a positive class assignment."
      ]
    },
    {
      "cell_type": "markdown",
      "metadata": {},
      "source": [
        "### Optimized Logistic Regression Model"
      ]
    },
    {
      "cell_type": "code",
      "execution_count": 148,
      "metadata": {},
      "outputs": [
        {
          "name": "stdout",
          "output_type": "stream",
          "text": [
            "Test Accuracy Logistic Regression : 73.57679079197082\n",
            "Classification Report :\n",
            "               precision    recall  f1-score   support\n",
            "\n",
            "         0.0       0.98      0.73      0.84    283803\n",
            "         1.0       0.21      0.79      0.33     24971\n",
            "\n",
            "    accuracy                           0.74    308774\n",
            "   macro avg       0.59      0.76      0.58    308774\n",
            "weighted avg       0.91      0.74      0.79    308774\n",
            "\n",
            "Testing Accuracy for Logistic Regression: 73.57679079197082\n",
            "Testing Sensitivity for Logistic Regression: 79.02767209963558\n"
          ]
        },
        {
          "data": {
            "image/png": "[encoded data removed]",
            "text/plain": [
              "<Figure size 432x288 with 2 Axes>"
            ]
          },
          "metadata": {
            "needs_background": "light"
          },
          "output_type": "display_data"
        }
      ],
      "source": [
        "# Evaluating performance of the optimized trained LR model on the original dataset by predicting the target variable and creating the confusion matrix \n",
        "\n",
        "predictions = lr_best.predict(eval_X_scaled)\n",
        "print(\"Test Accuracy Logistic Regression :\",accuracy_score(eval_y, predictions)*100)\n",
        "\n",
        "print(\"Classification Report :\\n\",classification_report(eval_y, predictions))\n",
        "\n",
        "# Making the Confusion Matrix\n",
        "cm = confusion_matrix(eval_y, predictions)\n",
        "\n",
        "sns.heatmap(cm, annot = True, cmap = 'winter', linewidths = 0.3,\n",
        "            linecolor = 'black', annot_kws = {\"size\":20}, fmt = 'g')\n",
        "plt.xlabel('Predicted')\n",
        "plt.ylabel('Actual')\n",
        "\n",
        "TN = cm[0][0]   # Data that was predicted to be class 0 and is actually class 0\n",
        "TP = cm[1][1]   # Data that was predicted to be class 1 and is actually class 1\n",
        "FN = cm[1][0]   # Data that was predicted to be class 0 but is actually class 1\n",
        "FP = cm[0][1]   # Data that was predicted to be class 1 but is actually class 0\n",
        "\n",
        "print('Testing Accuracy for Logistic Regression:', (TP + TN)/ (TP + TN + FN + FP)*100)\n",
        "print('Testing Sensitivity for Logistic Regression:', (TP)/(TP + FN)*100)"
      ]
    },
    {
      "cell_type": "code",
      "execution_count": 149,
      "metadata": {},
      "outputs": [
        {
          "name": "stdout",
          "output_type": "stream",
          "text": [
            "Logistic Regression ROC AUC Score : 76.06242785469655\n"
          ]
        },
        {
          "data": {
            "image/png": "[encoded data removed]",
            "text/plain": [
              "<Figure size 432x288 with 1 Axes>"
            ]
          },
          "metadata": {
            "needs_background": "light"
          },
          "output_type": "display_data"
        }
      ],
      "source": [
        "# Calculating the ROC AUC Score and creating the ROC Curve\n",
        "\n",
        "fpr, tpr, threshold = metrics.roc_curve(eval_y, predictions)\n",
        "roc_auc = metrics.auc(fpr, tpr)\n",
        "print(\"Logistic Regression ROC AUC Score :\",roc_auc * 100)\n",
        "\n",
        "plt.title('Receiver Operating Characteristic')\n",
        "plt.plot(fpr, tpr, 'b', label = 'AUC = %0.2f' % roc_auc)\n",
        "plt.legend(loc = 'lower right')\n",
        "plt.ylabel('True Positive Rate')\n",
        "plt.xlabel('False Positive Rate')\n",
        "plt.show()"
      ]
    },
    {
      "cell_type": "code",
      "execution_count": null,
      "metadata": {},
      "outputs": [],
      "source": [
        "# The optimized Logistic Regression model has a testing accuracy of 73.58% (0.77% decrease), a model precision of 0.21 for class 1 (no change), and a sensitivity of 79.03% (1.16% increase). The ROC AUC score for this model was 76.06 (0.10 increase). \n",
        "# There were 76,351 false positives (2,695 increase) and 5,237 false negatives (288 decrease).\n",
        "\n",
        "#The Logistic Regression Model struggles with a high amount of false positives, which could potentially be remedied by increasing the threshold for a positive class assignment."
      ]
    },
    {
      "cell_type": "markdown",
      "metadata": {},
      "source": [
        "## Random Forest Model Evaluation"
      ]
    },
    {
      "cell_type": "markdown",
      "metadata": {},
      "source": [
        "### Initial Random Forest Model"
      ]
    },
    {
      "cell_type": "code",
      "execution_count": 139,
      "metadata": {},
      "outputs": [
        {
          "name": "stdout",
          "output_type": "stream",
          "text": [
            "Test Accuracy Random Forest : 98.40660159210296\n",
            "Classification Report :\n",
            "               precision    recall  f1-score   support\n",
            "\n",
            "         0.0       0.98      1.00      0.99    283803\n",
            "         1.0       0.98      0.82      0.89     24971\n",
            "\n",
            "    accuracy                           0.98    308774\n",
            "   macro avg       0.98      0.91      0.94    308774\n",
            "weighted avg       0.98      0.98      0.98    308774\n",
            "\n",
            "Testing Accuracy for Random Forest: 98.40660159210296\n",
            "Testing Sensitivity for Random Forest: 81.87097032557767\n"
          ]
        },
        {
          "data": {
            "image/png": "[encoded data removed]",
            "text/plain": [
              "<Figure size 432x288 with 2 Axes>"
            ]
          },
          "metadata": {
            "needs_background": "light"
          },
          "output_type": "display_data"
        }
      ],
      "source": [
        "# Evaluating performance of the initial trained RF model on the original dataset by predicting the target variable and creating the confusion matrix \n",
        "\n",
        "predictions = rf.predict(eval_X_scaled)\n",
        "print(\"Test Accuracy Random Forest :\",accuracy_score(eval_y, predictions)*100)\n",
        "\n",
        "print(\"Classification Report :\\n\",classification_report(eval_y, predictions))\n",
        "\n",
        "# Making the Confusion Matrix\n",
        "cm = confusion_matrix(eval_y, predictions)\n",
        "\n",
        "sns.heatmap(cm, annot = True, cmap = 'winter', linewidths = 0.3,\n",
        "            linecolor = 'black', annot_kws = {\"size\":20}, fmt = 'g')\n",
        "plt.xlabel('Predicted')\n",
        "plt.ylabel('Actual')\n",
        "\n",
        "TN = cm[0][0]   # Data that was predicted to be class 0 and is actually class 0\n",
        "TP = cm[1][1]   # Data that was predicted to be class 1 and is actually class 1\n",
        "FN = cm[1][0]   # Data that was predicted to be class 0 but is actually class 1\n",
        "FP = cm[0][1]   # Data that was predicted to be class 1 but is actually class 0\n",
        "\n",
        "print('Testing Accuracy for Random Forest:', (TP + TN)/ (TP + TN + FN + FP)*100)\n",
        "print('Testing Sensitivity for Random Forest:', (TP)/(TP + FN)*100)"
      ]
    },
    {
      "cell_type": "code",
      "execution_count": 141,
      "metadata": {},
      "outputs": [
        {
          "name": "stdout",
          "output_type": "stream",
          "text": [
            "Random Forest ROC AUC Score : 90.86624699405913\n"
          ]
        },
        {
          "data": {
            "image/png": "[encoded data removed]",
            "text/plain": [
              "<Figure size 432x288 with 1 Axes>"
            ]
          },
          "metadata": {
            "needs_background": "light"
          },
          "output_type": "display_data"
        }
      ],
      "source": [
        "# Calculating the ROC AUC Score and creating the ROC Curve\n",
        "\n",
        "fpr, tpr, threshold = metrics.roc_curve(eval_y, predictions)\n",
        "roc_auc = metrics.auc(fpr, tpr)\n",
        "print(\"Random Forest ROC AUC Score :\",roc_auc * 100)\n",
        "\n",
        "plt.title('Receiver Operating Characteristic')\n",
        "plt.plot(fpr, tpr, 'b', label = 'AUC = %0.2f' % roc_auc)\n",
        "plt.legend(loc = 'lower right')\n",
        "plt.ylabel('True Positive Rate')\n",
        "plt.xlabel('False Positive Rate')\n",
        "plt.show()"
      ]
    },
    {
      "cell_type": "code",
      "execution_count": null,
      "metadata": {},
      "outputs": [],
      "source": [
        "# The initial Random Forest model has a testing accuracy of 98.41%, a model precision of 0.98 for class 1, and a sensitivity of 81.87%. The ROC AUC score for this model was 90.87. \n",
        "# There were 393 false positives and 4,527 false negatives.\n",
        "\n",
        "# The Random Forest Model appears to have captured the data pattern very well. The amount of false negatives could potentially be remedied by decreasing the threshold for a positive class assignment, at the risk of increased false positives."
      ]
    },
    {
      "cell_type": "markdown",
      "metadata": {},
      "source": [
        "### Optimized Random Forest Model"
      ]
    },
    {
      "cell_type": "code",
      "execution_count": 142,
      "metadata": {},
      "outputs": [
        {
          "name": "stdout",
          "output_type": "stream",
          "text": [
            "Test Accuracy Random Forest : 98.40660159210296\n",
            "Classification Report :\n",
            "               precision    recall  f1-score   support\n",
            "\n",
            "         0.0       0.98      1.00      0.99    283803\n",
            "         1.0       0.98      0.82      0.89     24971\n",
            "\n",
            "    accuracy                           0.98    308774\n",
            "   macro avg       0.98      0.91      0.94    308774\n",
            "weighted avg       0.98      0.98      0.98    308774\n",
            "\n",
            "Testing Accuracy for Random Forest: 98.40660159210296\n",
            "Testing Sensitivity for Random Forest: 81.87097032557767\n"
          ]
        },
        {
          "data": {
            "image/png": "[encoded data removed]",
            "text/plain": [
              "<Figure size 432x288 with 2 Axes>"
            ]
          },
          "metadata": {
            "needs_background": "light"
          },
          "output_type": "display_data"
        }
      ],
      "source": [
        "# Evaluating performance of the optimized trained RF model on the original dataset by predicting the target variable and creating the confusion matrix \n",
        "\n",
        "predictions = rf_best.predict(eval_X_scaled)\n",
        "print(\"Test Accuracy Random Forest :\",accuracy_score(eval_y, predictions)*100)\n",
        "\n",
        "print(\"Classification Report :\\n\",classification_report(eval_y, predictions))\n",
        "\n",
        "# Making the Confusion Matrix\n",
        "cm = confusion_matrix(eval_y, predictions)\n",
        "\n",
        "sns.heatmap(cm, annot = True, cmap = 'winter', linewidths = 0.3,\n",
        "            linecolor = 'black', annot_kws = {\"size\":20}, fmt = 'g')\n",
        "plt.xlabel('Predicted')\n",
        "plt.ylabel('Actual')\n",
        "\n",
        "TN = cm[0][0]   # Data that was predicted to be class 0 and is actually class 0\n",
        "TP = cm[1][1]   # Data that was predicted to be class 1 and is actually class 1\n",
        "FN = cm[1][0]   # Data that was predicted to be class 0 but is actually class 1\n",
        "FP = cm[0][1]   # Data that was predicted to be class 1 but is actually class 0\n",
        "\n",
        "print('Testing Accuracy for Random Forest:', (TP + TN)/ (TP + TN + FN + FP)*100)\n",
        "print('Testing Sensitivity for Random Forest:', (TP)/(TP + FN)*100)"
      ]
    },
    {
      "cell_type": "code",
      "execution_count": 143,
      "metadata": {},
      "outputs": [
        {
          "name": "stdout",
          "output_type": "stream",
          "text": [
            "Random Forest ROC AUC Score : 90.86624699405913\n"
          ]
        },
        {
          "data": {
            "image/png": "[encoded data removed]",
            "text/plain": [
              "<Figure size 432x288 with 1 Axes>"
            ]
          },
          "metadata": {
            "needs_background": "light"
          },
          "output_type": "display_data"
        }
      ],
      "source": [
        "# Calculating the ROC AUC Score and creating the ROC Curve\n",
        "\n",
        "fpr, tpr, threshold = metrics.roc_curve(eval_y, predictions)\n",
        "roc_auc = metrics.auc(fpr, tpr)\n",
        "print(\"Random Forest ROC AUC Score :\",roc_auc * 100)\n",
        "\n",
        "plt.title('Receiver Operating Characteristic')\n",
        "plt.plot(fpr, tpr, 'b', label = 'AUC = %0.2f' % roc_auc)\n",
        "plt.legend(loc = 'lower right')\n",
        "plt.ylabel('True Positive Rate')\n",
        "plt.xlabel('False Positive Rate')\n",
        "plt.show()"
      ]
    },
    {
      "cell_type": "code",
      "execution_count": null,
      "metadata": {},
      "outputs": [],
      "source": [
        "# The optimized Random Forest model has a testing accuracy of 98.41%, a model precision of 0.98 for class 1, and a sensitivity of 81.87%. The ROC AUC score for this model was 90.87. \n",
        "# There were 393 false positives and 4,527 false negatives.\n",
        "# There is no difference between the initial and optimized Random Forest Models.\n",
        "\n",
        "# The Random Forest Model appears to have captured the data pattern very well. The amount of false negatives could potentially be remedied by decreasing the threshold for a positive class assignment, at the risk of increased false positives."
      ]
    },
    {
      "cell_type": "markdown",
      "metadata": {},
      "source": [
        "## Support Vector Machine: Classifier Evaluation"
      ]
    },
    {
      "cell_type": "markdown",
      "metadata": {},
      "source": [
        "### Initial SVM:C Model"
      ]
    },
    {
      "cell_type": "code",
      "execution_count": 144,
      "metadata": {},
      "outputs": [
        {
          "name": "stdout",
          "output_type": "stream",
          "text": [
            "Test Accuracy SVM: 91.60162448910853\n",
            "Classification Report :\n",
            "               precision    recall  f1-score   support\n",
            "\n",
            "         0.0       0.93      0.99      0.96    283803\n",
            "         1.0       0.43      0.11      0.18     24971\n",
            "\n",
            "    accuracy                           0.92    308774\n",
            "   macro avg       0.68      0.55      0.57    308774\n",
            "weighted avg       0.89      0.92      0.89    308774\n",
            "\n",
            "Testing Accuracy for SVM: 91.60162448910853\n",
            "Testing Sensitivity for SVM: 11.164951343558528\n"
          ]
        },
        {
          "data": {
            "image/png": "[encoded data removed]",
            "text/plain": [
              "<Figure size 432x288 with 2 Axes>"
            ]
          },
          "metadata": {
            "needs_background": "light"
          },
          "output_type": "display_data"
        }
      ],
      "source": [
        "# Evaluating performance of the initial trained SVC model on the original dataset by predicting the target variable and creating the confusion matrix \n",
        "\n",
        "predictions = svc.predict(eval_X_scaled)\n",
        "print(\"Test Accuracy SVM:\",accuracy_score(eval_y, predictions)*100)\n",
        "\n",
        "print(\"Classification Report :\\n\",classification_report(eval_y, predictions))\n",
        "\n",
        "# Making the Confusion Matrix\n",
        "cm = confusion_matrix(eval_y, predictions)\n",
        "\n",
        "sns.heatmap(cm, annot = True, cmap = 'winter', linewidths = 0.3,\n",
        "            linecolor = 'black', annot_kws = {\"size\":20}, fmt = 'g')\n",
        "plt.xlabel('Predicted')\n",
        "plt.ylabel('Actual')\n",
        "\n",
        "TN = cm[0][0]   # Data that was predicted to be class 0 and is actually class 0\n",
        "TP = cm[1][1]   # Data that was predicted to be class 1 and is actually class 1\n",
        "FN = cm[1][0]   # Data that was predicted to be class 0 but is actually class 1\n",
        "FP = cm[0][1]   # Data that was predicted to be class 1 but is actually class 0\n",
        "\n",
        "print('Testing Accuracy for SVM:', (TP + TN)/ (TP + TN + FN + FP)*100)\n",
        "print('Testing Sensitivity for SVM:', (TP)/(TP + FN)*100)"
      ]
    },
    {
      "cell_type": "code",
      "execution_count": 145,
      "metadata": {},
      "outputs": [
        {
          "name": "stdout",
          "output_type": "stream",
          "text": [
            "SVM ROC AUC Score : 54.92198230137796\n"
          ]
        },
        {
          "data": {
            "image/png": "[encoded data removed]",
            "text/plain": [
              "<Figure size 432x288 with 1 Axes>"
            ]
          },
          "metadata": {
            "needs_background": "light"
          },
          "output_type": "display_data"
        }
      ],
      "source": [
        "# Calculating the ROC AUC Score and creating the ROC Curve\n",
        "\n",
        "fpr, tpr, threshold = metrics.roc_curve(eval_y, predictions)\n",
        "roc_auc = metrics.auc(fpr, tpr)\n",
        "print(\"SVM ROC AUC Score :\",roc_auc * 100)\n",
        "\n",
        "plt.title('Receiver Operating Characteristic')\n",
        "plt.plot(fpr, tpr, 'b', label = 'AUC = %0.2f' % roc_auc)\n",
        "plt.legend(loc = 'lower right')\n",
        "plt.ylabel('True Positive Rate')\n",
        "plt.xlabel('False Positive Rate')\n",
        "plt.show()"
      ]
    },
    {
      "cell_type": "code",
      "execution_count": null,
      "metadata": {},
      "outputs": [],
      "source": [
        "# The initial SVM:C model has a testing accuracy of 91.60%, a model precision of 0.43 for class 1, and a sensitivity of 11.16%. The ROC AUC score for this model was 54.92. \n",
        "# There were 3,749 false positives and 22,183 false negatives.\n",
        "\n",
        "# The SVM:C model struggled to capture the data pattern very well. The amount of false negatives could potentially be remedied by decreasing the threshold for a positive class assignment, at the risk of increased false positives."
      ]
    },
    {
      "cell_type": "markdown",
      "metadata": {},
      "source": [
        "### Optimized SVM:C Model"
      ]
    },
    {
      "cell_type": "code",
      "execution_count": 146,
      "metadata": {},
      "outputs": [
        {
          "name": "stdout",
          "output_type": "stream",
          "text": [
            "Test Accuracy SVM: 91.81861167067176\n",
            "Classification Report :\n",
            "               precision    recall  f1-score   support\n",
            "\n",
            "         0.0       0.93      0.99      0.96    283803\n",
            "         1.0       0.47      0.09      0.15     24971\n",
            "\n",
            "    accuracy                           0.92    308774\n",
            "   macro avg       0.70      0.54      0.55    308774\n",
            "weighted avg       0.89      0.92      0.89    308774\n",
            "\n",
            "Testing Accuracy for SVM: 91.81861167067176\n",
            "Testing Sensitivity for SVM: 8.866284890472949\n"
          ]
        },
        {
          "data": {
            "image/png": "[encoded data removed]",
            "text/plain": [
              "<Figure size 432x288 with 2 Axes>"
            ]
          },
          "metadata": {
            "needs_background": "light"
          },
          "output_type": "display_data"
        }
      ],
      "source": [
        "# Evaluating performance of the optimized trained SVC model on the original dataset by predicting the target variable and creating the confusion matrix \n",
        "\n",
        "predictions = svc_best.predict(eval_X_scaled)\n",
        "print(\"Test Accuracy SVM:\",accuracy_score(eval_y, predictions)*100)\n",
        "\n",
        "print(\"Classification Report :\\n\",classification_report(eval_y, predictions))\n",
        "\n",
        "# Making the Confusion Matrix\n",
        "cm = confusion_matrix(eval_y, predictions)\n",
        "\n",
        "sns.heatmap(cm, annot = True, cmap = 'winter', linewidths = 0.3,\n",
        "            linecolor = 'black', annot_kws = {\"size\":20}, fmt = 'g')\n",
        "plt.xlabel('Predicted')\n",
        "plt.ylabel('Actual')\n",
        "\n",
        "TN = cm[0][0]   # Data that was predicted to be class 0 and is actually class 0\n",
        "TP = cm[1][1]   # Data that was predicted to be class 1 and is actually class 1\n",
        "FN = cm[1][0]   # Data that was predicted to be class 0 but is actually class 1\n",
        "FP = cm[0][1]   # Data that was predicted to be class 1 but is actually class 0\n",
        "\n",
        "print('Testing Accuracy for SVM:', (TP + TN)/ (TP + TN + FN + FP)*100)\n",
        "print('Testing Sensitivity for SVM:', (TP)/(TP + FN)*100)"
      ]
    },
    {
      "cell_type": "code",
      "execution_count": 147,
      "metadata": {},
      "outputs": [
        {
          "name": "stdout",
          "output_type": "stream",
          "text": [
            "Logistic Regression ROC AUC Score : 53.99181518653941\n"
          ]
        },
        {
          "data": {
            "image/png": "[encoded data removed]",
            "text/plain": [
              "<Figure size 432x288 with 1 Axes>"
            ]
          },
          "metadata": {
            "needs_background": "light"
          },
          "output_type": "display_data"
        }
      ],
      "source": [
        "# Calculating the ROC AUC Score and creating the ROC Curve\n",
        "\n",
        "fpr, tpr, threshold = metrics.roc_curve(eval_y, predictions)\n",
        "roc_auc = metrics.auc(fpr, tpr)\n",
        "print(\"Logistic Regression ROC AUC Score :\",roc_auc * 100)\n",
        "\n",
        "plt.title('Receiver Operating Characteristic')\n",
        "plt.plot(fpr, tpr, 'b', label = 'AUC = %0.2f' % roc_auc)\n",
        "plt.legend(loc = 'lower right')\n",
        "plt.ylabel('True Positive Rate')\n",
        "plt.xlabel('False Positive Rate')\n",
        "plt.show()"
      ]
    },
    {
      "cell_type": "code",
      "execution_count": null,
      "metadata": {},
      "outputs": [],
      "source": [
        "# The optimized SVM:C model has a testing accuracy of 91.82% (0.22% increase), a model precision of 0.47 for class 1 (0.04 increase), and a sensitivity of 8.87% (2.29% decrease). The ROC AUC score for this model was 53.99 (0.93 decrease). \n",
        "# There were 2505 false positives (1,244 decrease) and 22,757 false negatives (574 increase).\n",
        "\n",
        "# The SVM:C model struggled to capture the data pattern very well. The amount of false negatives could potentially be remedied by decreasing the threshold for a positive class assignment, at the risk of increased false positives.\n",
        "# The original SVM:C model performed better with the original dataset than the optimized version."
      ]
    },
    {
      "cell_type": "markdown",
      "metadata": {},
      "source": [
        "# Summary of Findings"
      ]
    },
    {
      "cell_type": "markdown",
      "metadata": {},
      "source": [
        "## Logistic Regression"
      ]
    },
    {
      "cell_type": "code",
      "execution_count": null,
      "metadata": {},
      "outputs": [],
      "source": [
        "# The initial Logistic Regression model, fitted on the oversampled training dataset, had the following results:\n",
        "# Test Accuracy: 77.46%\n",
        "# Test Class 1 Precision: 0.76\n",
        "# Test Sensitivity: 80.78%\n",
        "# Test ROC AUC: 77.46\n",
        "# False Positives / False Negatives: 14,676 / 10,911\n",
        "\n",
        "\n",
        "# The optimized Logistic Regression model, after training on the oversampled dataset, had the following results:\n",
        "# Test Accuracy: 77.49% (0.03% increase from initial model)\n",
        "# Test Class 1 Precision: 0.75 (0.01 decrease from initial model)\n",
        "# Test Sensitivity: 81.81% (1.03% increase from initial model)\n",
        "# Test ROC AUC: 77.49 (0.03 increase from initial model)\n",
        "# False Positives / False Negatives: 15,231 (555 decrease from initial model) / 10,324 (587 decrease from initial model)\n",
        "\n",
        "\n",
        "# The initial Logistic Regression model, evaluated on the original dataset, had the following results:\n",
        "# Test Accuracy: 74.36%\n",
        "# Test Class 1 Precision: 0.21\n",
        "# Test Sensitivity: 77.87%\n",
        "# Test ROC AUC: 75.96\n",
        "# False Positives / False Negatives: 73,656 / 5,525\n",
        "\n",
        "\n",
        "# The optimized Logistic Regression model, evaluated on the original dataset, had the following results:\n",
        "# Test Accuracy: 73.58% (0.78% decrease from initial model)\n",
        "# Test Class 1 Precision: 0.21 (same as initial model)\n",
        "# Test Sensitivity: 79.03% (1.16% increase from initial model)\n",
        "# Test ROC AUC: 76.06 (0.10 increase from initial model)\n",
        "# False Positives / False Negatives: 76,351 (2,695 increase from initial model) / 5,237 (288 decrease from initial model)\n",
        "\n",
        "\n",
        "# Metric change from oversampled data initial model to original dataset initial model:\n",
        "# Test Accuracy Difference: 3.10% decrease\n",
        "# Test Class 1 Precision Difference: 0.55 decrease\n",
        "# Test Sensitivity Difference: 2.91% decrease\n",
        "# Test ROC AUC Difference: 1.50 decrease\n",
        "\n",
        "\n",
        "# Comparison of oversampled data optimized model and original dataset optimized model:\n",
        "# Test Accuracy Difference: 3.91% decrease\n",
        "# Test Class 1 Precision Difference: 0.54 decrease\n",
        "# Test Sensitivity Difference: 2.78% decrease\n",
        "# Test ROC AUC Difference: 1.43 decrease"
      ]
    },
    {
      "cell_type": "markdown",
      "metadata": {},
      "source": [
        "## Random Forest"
      ]
    },
    {
      "cell_type": "code",
      "execution_count": null,
      "metadata": {},
      "outputs": [],
      "source": [
        "# The initial Random Forest model, fitted on the oversampled training dataset, had the following results:\n",
        "# Test Accuracy: 95.63%\n",
        "# Test Class 1 Precision: 0.99\n",
        "# Test Sensitivity: 91.96%\n",
        "# Test ROC AUC: 95.63\n",
        "# False Positives / False Negatives: 393 / 4,564\n",
        "\n",
        "\n",
        "# The optimized Random Forest model, after training on the oversampled dataset, had the following results:\n",
        "# Test Accuracy: 95.63% (no change from initial model)\n",
        "# Test Class 1 Precision: 0.99 (no change from initial model)\n",
        "# Test Sensitivity: 91.96% (no change from initial model)\n",
        "# Test ROC AUC: 95.63 (no change from initial model)\n",
        "# False Positives / False Negatives: 393 (no change from initial model) / 4,564 (no change from initial model)\n",
        "\n",
        "\n",
        "# The initial Random Forest model, evaluated on the original dataset, had the following results:\n",
        "# Test Accuracy: 98.41%\n",
        "# Test Class 1 Precision: 0.98\n",
        "# Test Sensitivity: 81.87%\n",
        "# Test ROC AUC: 90.87\n",
        "# False Positives / False Negatives: 393 / 4,527\n",
        "\n",
        "\n",
        "# The optimized Random Forest model, evaluated on the original dataset, had the following results:\n",
        "# Test Accuracy: 98.41% (no change from initial model)\n",
        "# Test Class 1 Precision: 0.98 (no change as initial model)\n",
        "# Test Sensitivity: 81.87% (no change from initial model)\n",
        "# Test ROC AUC: 90.87 (no change from initial model)\n",
        "# False Positives / False Negatives: 393 (no change from initial model) / 4,527 (no change from initial model)\n",
        "\n",
        "\n",
        "# Metric change from oversampled data initial model to original dataset initial model:\n",
        "# Test Accuracy Difference: 2.78% increase\n",
        "# Test Class 1 Precision Difference: 0.01 decrease\n",
        "# Test Sensitivity Difference: 10.09% decrease\n",
        "# Test ROC AUC Difference: 4.76 decrease\n",
        "\n",
        "\n",
        "# Comparison of oversampled data optimized model and original dataset optimized model:\n",
        "# Test Accuracy Difference: 2.78% increase\n",
        "# Test Class 1 Precision Difference: 0.01 decrease\n",
        "# Test Sensitivity Difference: 10.09% decrease\n",
        "# Test ROC AUC Difference: 4.76 decrease"
      ]
    },
    {
      "cell_type": "markdown",
      "metadata": {},
      "source": [
        "## Support Vector Machine: Classifier"
      ]
    },
    {
      "cell_type": "code",
      "execution_count": null,
      "metadata": {},
      "outputs": [],
      "source": [
        "# The initial SVM:C model, fitted on the oversampled training dataset, had the following results:\n",
        "# Test Accuracy: 91.69%\n",
        "# Test Class 1 Precision: 0.98 \n",
        "# Test Sensitivity: 84.81%\n",
        "# Test ROC AUC: 91.69\n",
        "# False Positives / False Negatives: 806 / 8,624\n",
        "\n",
        "\n",
        "# The optimized SVM:C model, after training on the oversampled dataset, had the following results:\n",
        "# Test Accuracy: 92.74% (1.05% increase from initial model)\n",
        "# Test Class 1 Precision: 0.99 (0.01 increase from initial model)\n",
        "# Test Sensitivity: 86.45% (1.64% increase from initial model)\n",
        "# Test ROC AUC: 92.74 (1.05 increase from initial model)\n",
        "# False Positives / False Negatives: 558 (248 decrease from initial model) / 7,689 (935 decrease from initial model)\n",
        "\n",
        "\n",
        "# The initial SVM:C model, evaluated on the original dataset, had the following results:\n",
        "# Test Accuracy: 91.60%\n",
        "# Test Class 1 Precision: 0.43\n",
        "# Test Sensitivity: 11.16%\n",
        "# Test ROC AUC: 54.92\n",
        "# False Positives / False Negatives: 3,749 / 22,183\n",
        "\n",
        "\n",
        "# The optimized SVM:C model, evaluated on the original dataset, had the following results:\n",
        "# Test Accuracy: 91.82% (0.22% increase from initial model)\n",
        "# Test Class 1 Precision: 0.47 (0.04 increase from initial model) \n",
        "# Test Sensitivity: 8.87% (2.29% decrease from initial model)\n",
        "# Test ROC AUC: 53.99 (0.93 decrease from initial model)\n",
        "# False Positives / False Negatives: 2505 (1,244 decrease from initial model) / 22,757 (574 increase from initial model)\n",
        "\n",
        "\n",
        "# Metric change from oversampled data initial model to original dataset initial model:\n",
        "# Test Accuracy Difference: 0.09% decrease \n",
        "# Test Class 1 Precision Difference: 0.55 decrease\n",
        "# Test Sensitivity Difference: 73.65% decrease\n",
        "# Test ROC AUC Difference: 36.77 decrease\n",
        "\n",
        "\n",
        "# Comparison of oversampled data optimized model and original dataset optimized model:\n",
        "# Test Accuracy Difference: 0.92% decrease\n",
        "# Test Class 1 Precision Difference: 0.52 decrease\n",
        "# Test Sensitivity Difference: 77.58% decrease\n",
        "# Test ROC AUC Difference: 38.75 decrease"
      ]
    },
    {
      "cell_type": "markdown",
      "metadata": {},
      "source": [
        "# Results & Recommendations"
      ]
    },
    {
      "cell_type": "code",
      "execution_count": null,
      "metadata": {},
      "outputs": [],
      "source": [
        "# The model with the highest performance was the Random Forest for both the oversampled and original datasets. \n",
        "# The Logistic Regression model performance on the oversampled dataset was weaker than the other models but had a higher sensitivity than the SVM:C model on the original dataset.\n",
        "# The optimized Logistic Regression model had better performance than the initial model on the oversampled dataset, while the initial model had better performance than the optimized model on the original dataset.\n",
        "# The Random Forest model had a minimal decrease in performance when comparing the oversampled dataset and original dataset.\n",
        "# Both initial and optimized Random Forest models had the same performance.\n",
        "# The SVM:C model performed well on the oversampled dataset, but performance was drastically worse when trying the predict on the original dataset.\n",
        "# The optimized SVM:C model had better performance than the initial model on the oversampled dataset, while the initial model had better performance than the optimized model on the original dataset.\n",
        "\n",
        "# The model performance ranking on the oversampled dataset:\n",
        "# 1) Random Forest Models\n",
        "# 2) SVM:C Models\n",
        "# 3) Logistic Regression Models\n",
        "\n",
        "# The model performance ranking on the original dataset:\n",
        "# 1) Random Forest Models\n",
        "# 2) Logistic Regression Models\n",
        "# 3) SVM:C Models"
      ]
    },
    {
      "cell_type": "code",
      "execution_count": null,
      "metadata": {},
      "outputs": [],
      "source": [
        "# If I had to go back and further improve this model, the things I would do differently would include:\n",
        "# 1) Reduce variables used in dataset to reduce processing time.\n",
        "# 2) Attempt to improve SVM:C model performance on the original dataset.\n",
        "# 3) Explore further models to determine if there is a better fit.\n",
        "# 4) Explore Principal Component Analysis to determine which variables are significant."
      ]
    }
  ],
  "metadata": {
    "colab": {
      "collapsed_sections": [
        "DdHN4eSNNSjr",
        "dd1SizxCOIM6",
        "ofO3X4deOCy6",
        "Fuo5ugB-RyZx",
        "aKkMa_RMkUu8",
        "sjOli7KJl0Ac",
        "wmgWex2smlpU",
        "dOfzty5_mc1t",
        "VAzSHbtGo-_-"
      ],
      "provenance": [],
      "toc_visible": true
    },
    "kernelspec": {
      "display_name": "Python 3",
      "name": "python3"
    },
    "language_info": {
      "codemirror_mode": {
        "name": "ipython",
        "version": 3
      },
      "file_extension": ".py",
      "mimetype": "text/x-python",
      "name": "python",
      "nbconvert_exporter": "python",
      "pygments_lexer": "ipython3",
      "version": "3.9.12"
    }
  },
  "nbformat": 4,
  "nbformat_minor": 0
}
